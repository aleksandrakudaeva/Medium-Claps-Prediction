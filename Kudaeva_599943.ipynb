{
 "cells": [
  {
   "cell_type": "markdown",
   "metadata": {},
   "source": [
    "# ADAMS SS20"
   ]
  },
  {
   "cell_type": "markdown",
   "metadata": {},
   "source": [
    "- Author: Kudaeva Aleksandra\n",
    "- Student ID: 599943"
   ]
  },
  {
   "cell_type": "markdown",
   "metadata": {},
   "source": [
    "## Introduction\n",
    "\n",
    "In this project I try to predict the number of claps a post given text from the online publishing platform Medium based on text itself and other features provided in the dataset. \n",
    "\n",
    "The document is structured in the following way: \n",
    "- 1. Import the data and perform basic data profiling\n",
    "- 2. Create comparable train and test datasets with the same set of variables (excluding number of claps)\n",
    "- 3. Based on chosen variables we performe representativity of a test sample. Based on the results of this analzsis we filter the data so that train and test datasets have similar properties\n",
    "- 4. Create additional features\n",
    "- 5. Extract information from text fields\n",
    "- 6. Perform dependencies analysis between claps and other features in a dataset\n",
    "- 7. Apply MLP, RandomForest, Linear Regression (just as an easiest benchmark model) to the data and select the best model\n",
    "- 8. Apply selected model to the data and generate file with prediction\n",
    "    "
   ]
  },
  {
   "cell_type": "code",
   "execution_count": 1,
   "metadata": {},
   "outputs": [],
   "source": [
    "import pandas as pd \n",
    "import numpy as np \n",
    "from matplotlib import pyplot as plt\n",
    "from tqdm import tqdm, trange\n",
    "import re\n",
    "\n",
    "pd.set_option(\"display.max_columns\", 50) #show all columns present in the dataset"
   ]
  },
  {
   "cell_type": "markdown",
   "metadata": {},
   "source": [
    "## 0. Data Import "
   ]
  },
  {
   "cell_type": "markdown",
   "metadata": {},
   "source": [
    "As a first step of the analysis we import and inspect the datasets."
   ]
  },
  {
   "cell_type": "code",
   "execution_count": 2,
   "metadata": {},
   "outputs": [],
   "source": [
    "train = pd.read_csv('./ADAMS_NLPtask_SS20/Train.csv')\n",
    "test = pd.read_csv('./ADAMS_NLPtask_SS20/Test.csv')"
   ]
  },
  {
   "cell_type": "code",
   "execution_count": 3,
   "metadata": {},
   "outputs": [
    {
     "data": {
      "text/html": [
       "<div>\n",
       "<style scoped>\n",
       "    .dataframe tbody tr th:only-of-type {\n",
       "        vertical-align: middle;\n",
       "    }\n",
       "\n",
       "    .dataframe tbody tr th {\n",
       "        vertical-align: top;\n",
       "    }\n",
       "\n",
       "    .dataframe thead th {\n",
       "        text-align: right;\n",
       "    }\n",
       "</style>\n",
       "<table border=\"1\" class=\"dataframe\">\n",
       "  <thead>\n",
       "    <tr style=\"text-align: right;\">\n",
       "      <th></th>\n",
       "      <th>audioVersionDurationSec</th>\n",
       "      <th>codeBlock</th>\n",
       "      <th>codeBlockCount</th>\n",
       "      <th>collectionId</th>\n",
       "      <th>createdDate</th>\n",
       "      <th>createdDatetime</th>\n",
       "      <th>firstPublishedDate</th>\n",
       "      <th>firstPublishedDatetime</th>\n",
       "      <th>imageCount</th>\n",
       "      <th>isSubscriptionLocked</th>\n",
       "      <th>language</th>\n",
       "      <th>latestPublishedDate</th>\n",
       "      <th>latestPublishedDatetime</th>\n",
       "      <th>linksCount</th>\n",
       "      <th>postId</th>\n",
       "      <th>readingTime</th>\n",
       "      <th>recommends</th>\n",
       "      <th>responsesCreatedCount</th>\n",
       "      <th>socialRecommendsCount</th>\n",
       "      <th>subTitle</th>\n",
       "      <th>tagsCount</th>\n",
       "      <th>text</th>\n",
       "      <th>title</th>\n",
       "      <th>totalClapCount</th>\n",
       "      <th>uniqueSlug</th>\n",
       "      <th>updatedDate</th>\n",
       "      <th>updatedDatetime</th>\n",
       "      <th>url</th>\n",
       "      <th>vote</th>\n",
       "      <th>wordCount</th>\n",
       "      <th>publicationdescription</th>\n",
       "      <th>publicationdomain</th>\n",
       "      <th>publicationfacebookPageName</th>\n",
       "      <th>publicationfollowerCount</th>\n",
       "      <th>publicationname</th>\n",
       "      <th>publicationpublicEmail</th>\n",
       "      <th>publicationslug</th>\n",
       "      <th>publicationtags</th>\n",
       "      <th>publicationtwitterUsername</th>\n",
       "      <th>tag_name</th>\n",
       "      <th>slug</th>\n",
       "      <th>name</th>\n",
       "      <th>postCount</th>\n",
       "      <th>author</th>\n",
       "      <th>bio</th>\n",
       "      <th>userId</th>\n",
       "      <th>userName</th>\n",
       "      <th>usersFollowedByCount</th>\n",
       "      <th>usersFollowedCount</th>\n",
       "      <th>scrappedDate</th>\n",
       "    </tr>\n",
       "  </thead>\n",
       "  <tbody>\n",
       "    <tr>\n",
       "      <th>0</th>\n",
       "      <td>0</td>\n",
       "      <td>NaN</td>\n",
       "      <td>0.0</td>\n",
       "      <td>638f418c8464</td>\n",
       "      <td>2018-09-18</td>\n",
       "      <td>2018-09-18 20:55:34</td>\n",
       "      <td>2018-09-18</td>\n",
       "      <td>2018-09-18 20:57:03</td>\n",
       "      <td>1</td>\n",
       "      <td>False</td>\n",
       "      <td>en</td>\n",
       "      <td>2018-09-18</td>\n",
       "      <td>2018-09-18 20:58:20</td>\n",
       "      <td>1</td>\n",
       "      <td>10007d3018fe</td>\n",
       "      <td>0.958491</td>\n",
       "      <td>2</td>\n",
       "      <td>0</td>\n",
       "      <td>0</td>\n",
       "      <td>A major private IT company implements blockcha...</td>\n",
       "      <td>5</td>\n",
       "      <td>Private Business, Government and Blockchain\\n\\...</td>\n",
       "      <td>Private Business, Government and Blockchain</td>\n",
       "      <td>100</td>\n",
       "      <td>private-business-government-and-blockchain-100...</td>\n",
       "      <td>2018-09-18</td>\n",
       "      <td>2018-09-18 20:58:20</td>\n",
       "      <td>https://medium.com/s/story/private-business-go...</td>\n",
       "      <td>False</td>\n",
       "      <td>201</td>\n",
       "      <td>ICOBox is the first and the biggest new genera...</td>\n",
       "      <td>NaN</td>\n",
       "      <td>icobox.io</td>\n",
       "      <td>NaN</td>\n",
       "      <td>ICOBox</td>\n",
       "      <td>support@icobox.io</td>\n",
       "      <td>icobox-io</td>\n",
       "      <td>BLOCKCHAIN,ICO,ETHEREUM,ETHEREUM BLOCKCHAIN,TO...</td>\n",
       "      <td>icobox_io</td>\n",
       "      <td>Blockchain</td>\n",
       "      <td>blockchain</td>\n",
       "      <td>Blockchain</td>\n",
       "      <td>265164.0</td>\n",
       "      <td>Anar Babaev</td>\n",
       "      <td>NaN</td>\n",
       "      <td>f1ad85af0169</td>\n",
       "      <td>babaevanar</td>\n",
       "      <td>450.0</td>\n",
       "      <td>404.0</td>\n",
       "      <td>20181104</td>\n",
       "    </tr>\n",
       "    <tr>\n",
       "      <th>1</th>\n",
       "      <td>0</td>\n",
       "      <td>NaN</td>\n",
       "      <td>0.0</td>\n",
       "      <td>638f418c8464</td>\n",
       "      <td>2018-09-18</td>\n",
       "      <td>2018-09-18 20:55:34</td>\n",
       "      <td>2018-09-18</td>\n",
       "      <td>2018-09-18 20:57:03</td>\n",
       "      <td>1</td>\n",
       "      <td>False</td>\n",
       "      <td>en</td>\n",
       "      <td>2018-09-18</td>\n",
       "      <td>2018-09-18 20:58:20</td>\n",
       "      <td>1</td>\n",
       "      <td>10007d3018fe</td>\n",
       "      <td>0.958491</td>\n",
       "      <td>2</td>\n",
       "      <td>0</td>\n",
       "      <td>0</td>\n",
       "      <td>A major private IT company implements blockcha...</td>\n",
       "      <td>5</td>\n",
       "      <td>Private Business, Government and Blockchain\\n\\...</td>\n",
       "      <td>Private Business, Government and Blockchain</td>\n",
       "      <td>100</td>\n",
       "      <td>private-business-government-and-blockchain-100...</td>\n",
       "      <td>2018-09-18</td>\n",
       "      <td>2018-09-18 20:58:20</td>\n",
       "      <td>https://medium.com/s/story/private-business-go...</td>\n",
       "      <td>False</td>\n",
       "      <td>201</td>\n",
       "      <td>ICOBox is the first and the biggest new genera...</td>\n",
       "      <td>NaN</td>\n",
       "      <td>icobox.io</td>\n",
       "      <td>NaN</td>\n",
       "      <td>ICOBox</td>\n",
       "      <td>support@icobox.io</td>\n",
       "      <td>icobox-io</td>\n",
       "      <td>BLOCKCHAIN,ICO,ETHEREUM,ETHEREUM BLOCKCHAIN,TO...</td>\n",
       "      <td>icobox_io</td>\n",
       "      <td>Samsung</td>\n",
       "      <td>samsung</td>\n",
       "      <td>Samsung</td>\n",
       "      <td>5708.0</td>\n",
       "      <td>Anar Babaev</td>\n",
       "      <td>NaN</td>\n",
       "      <td>f1ad85af0169</td>\n",
       "      <td>babaevanar</td>\n",
       "      <td>450.0</td>\n",
       "      <td>404.0</td>\n",
       "      <td>20181104</td>\n",
       "    </tr>\n",
       "  </tbody>\n",
       "</table>\n",
       "</div>"
      ],
      "text/plain": [
       "   audioVersionDurationSec codeBlock  codeBlockCount  collectionId  \\\n",
       "0                        0       NaN             0.0  638f418c8464   \n",
       "1                        0       NaN             0.0  638f418c8464   \n",
       "\n",
       "  createdDate      createdDatetime firstPublishedDate firstPublishedDatetime  \\\n",
       "0  2018-09-18  2018-09-18 20:55:34         2018-09-18    2018-09-18 20:57:03   \n",
       "1  2018-09-18  2018-09-18 20:55:34         2018-09-18    2018-09-18 20:57:03   \n",
       "\n",
       "   imageCount  isSubscriptionLocked language latestPublishedDate  \\\n",
       "0           1                 False       en          2018-09-18   \n",
       "1           1                 False       en          2018-09-18   \n",
       "\n",
       "  latestPublishedDatetime  linksCount        postId  readingTime  recommends  \\\n",
       "0     2018-09-18 20:58:20           1  10007d3018fe     0.958491           2   \n",
       "1     2018-09-18 20:58:20           1  10007d3018fe     0.958491           2   \n",
       "\n",
       "   responsesCreatedCount  socialRecommendsCount  \\\n",
       "0                      0                      0   \n",
       "1                      0                      0   \n",
       "\n",
       "                                            subTitle  tagsCount  \\\n",
       "0  A major private IT company implements blockcha...          5   \n",
       "1  A major private IT company implements blockcha...          5   \n",
       "\n",
       "                                                text  \\\n",
       "0  Private Business, Government and Blockchain\\n\\...   \n",
       "1  Private Business, Government and Blockchain\\n\\...   \n",
       "\n",
       "                                         title  totalClapCount  \\\n",
       "0  Private Business, Government and Blockchain             100   \n",
       "1  Private Business, Government and Blockchain             100   \n",
       "\n",
       "                                          uniqueSlug updatedDate  \\\n",
       "0  private-business-government-and-blockchain-100...  2018-09-18   \n",
       "1  private-business-government-and-blockchain-100...  2018-09-18   \n",
       "\n",
       "       updatedDatetime                                                url  \\\n",
       "0  2018-09-18 20:58:20  https://medium.com/s/story/private-business-go...   \n",
       "1  2018-09-18 20:58:20  https://medium.com/s/story/private-business-go...   \n",
       "\n",
       "    vote  wordCount                             publicationdescription  \\\n",
       "0  False        201  ICOBox is the first and the biggest new genera...   \n",
       "1  False        201  ICOBox is the first and the biggest new genera...   \n",
       "\n",
       "  publicationdomain publicationfacebookPageName  publicationfollowerCount  \\\n",
       "0               NaN                   icobox.io                       NaN   \n",
       "1               NaN                   icobox.io                       NaN   \n",
       "\n",
       "  publicationname publicationpublicEmail publicationslug  \\\n",
       "0          ICOBox      support@icobox.io       icobox-io   \n",
       "1          ICOBox      support@icobox.io       icobox-io   \n",
       "\n",
       "                                     publicationtags  \\\n",
       "0  BLOCKCHAIN,ICO,ETHEREUM,ETHEREUM BLOCKCHAIN,TO...   \n",
       "1  BLOCKCHAIN,ICO,ETHEREUM,ETHEREUM BLOCKCHAIN,TO...   \n",
       "\n",
       "  publicationtwitterUsername    tag_name        slug        name  postCount  \\\n",
       "0                  icobox_io  Blockchain  blockchain  Blockchain   265164.0   \n",
       "1                  icobox_io     Samsung     samsung     Samsung     5708.0   \n",
       "\n",
       "        author  bio        userId    userName  usersFollowedByCount  \\\n",
       "0  Anar Babaev  NaN  f1ad85af0169  babaevanar                 450.0   \n",
       "1  Anar Babaev  NaN  f1ad85af0169  babaevanar                 450.0   \n",
       "\n",
       "   usersFollowedCount  scrappedDate  \n",
       "0               404.0      20181104  \n",
       "1               404.0      20181104  "
      ]
     },
     "execution_count": 3,
     "metadata": {},
     "output_type": "execute_result"
    }
   ],
   "source": [
    "train.head(2)"
   ]
  },
  {
   "cell_type": "code",
   "execution_count": 4,
   "metadata": {},
   "outputs": [
    {
     "data": {
      "text/html": [
       "<div>\n",
       "<style scoped>\n",
       "    .dataframe tbody tr th:only-of-type {\n",
       "        vertical-align: middle;\n",
       "    }\n",
       "\n",
       "    .dataframe tbody tr th {\n",
       "        vertical-align: top;\n",
       "    }\n",
       "\n",
       "    .dataframe thead th {\n",
       "        text-align: right;\n",
       "    }\n",
       "</style>\n",
       "<table border=\"1\" class=\"dataframe\">\n",
       "  <thead>\n",
       "    <tr style=\"text-align: right;\">\n",
       "      <th></th>\n",
       "      <th>Unnamed: 0</th>\n",
       "      <th>index</th>\n",
       "      <th>Author</th>\n",
       "      <th>PublicationDetails</th>\n",
       "      <th>Responses</th>\n",
       "      <th>Header</th>\n",
       "      <th>Text</th>\n",
       "      <th>Length</th>\n",
       "    </tr>\n",
       "  </thead>\n",
       "  <tbody>\n",
       "    <tr>\n",
       "      <th>0</th>\n",
       "      <td>0</td>\n",
       "      <td>0</td>\n",
       "      <td>Daniel Jeffries</td>\n",
       "      <td>Daniel Jeffries in HackerNoon.comJul 31, 2017</td>\n",
       "      <td>627 responses</td>\n",
       "      <td>Why Everyone Missed the Most Mind-Blowing Feat...</td>\n",
       "      <td>There’s one incredible feature of cryptocurren...</td>\n",
       "      <td>23401</td>\n",
       "    </tr>\n",
       "    <tr>\n",
       "      <th>1</th>\n",
       "      <td>1</td>\n",
       "      <td>1</td>\n",
       "      <td>Noam Levenson</td>\n",
       "      <td>Noam Levenson in HackerNoon.comDec 6, 2017</td>\n",
       "      <td>156 responses</td>\n",
       "      <td>NEO versus Ethereum: Why NEO might be 2018’s s...</td>\n",
       "      <td>&lt;img class=\"progressiveMedia-noscript js-progr...</td>\n",
       "      <td>23972</td>\n",
       "    </tr>\n",
       "  </tbody>\n",
       "</table>\n",
       "</div>"
      ],
      "text/plain": [
       "   Unnamed: 0  index           Author  \\\n",
       "0           0      0  Daniel Jeffries   \n",
       "1           1      1    Noam Levenson   \n",
       "\n",
       "                              PublicationDetails      Responses  \\\n",
       "0  Daniel Jeffries in HackerNoon.comJul 31, 2017  627 responses   \n",
       "1     Noam Levenson in HackerNoon.comDec 6, 2017  156 responses   \n",
       "\n",
       "                                              Header  \\\n",
       "0  Why Everyone Missed the Most Mind-Blowing Feat...   \n",
       "1  NEO versus Ethereum: Why NEO might be 2018’s s...   \n",
       "\n",
       "                                                Text  Length  \n",
       "0  There’s one incredible feature of cryptocurren...   23401  \n",
       "1  <img class=\"progressiveMedia-noscript js-progr...   23972  "
      ]
     },
     "execution_count": 4,
     "metadata": {},
     "output_type": "execute_result"
    }
   ],
   "source": [
    "test.head(2)"
   ]
  },
  {
   "cell_type": "markdown",
   "metadata": {},
   "source": [
    "While inspecting the initial datasets, I found out that many Articles are duplicated in the dataset. The columns causing duplication are not present in the test dataset and are difficult to reproduce. Therefore, I filter out just the columns I am planning to use for further analysis and delete  duplicated rows. This procedure significantly decreases dataset size and consequently processing times."
   ]
  },
  {
   "cell_type": "code",
   "execution_count": 5,
   "metadata": {},
   "outputs": [
    {
     "data": {
      "text/plain": [
       "(72337, 10)"
      ]
     },
     "execution_count": 5,
     "metadata": {},
     "output_type": "execute_result"
    }
   ],
   "source": [
    "tr = train[['totalClapCount', 'text', 'author', 'responsesCreatedCount', 'url', 'title', 'createdDate', 'wordCount', 'language', 'imageCount']]\n",
    "\n",
    "tr = tr.drop_duplicates(subset=None, keep='first', inplace=False)\n",
    "tr.shape"
   ]
  },
  {
   "cell_type": "code",
   "execution_count": 6,
   "metadata": {},
   "outputs": [
    {
     "name": "stdout",
     "output_type": "stream",
     "text": [
      "Mean number of claps pro article:  162.63381118929456\n",
      "Median number of claps pro article:  5.0\n"
     ]
    }
   ],
   "source": [
    "print('Mean number of claps pro article: ', tr.totalClapCount.mean())\n",
    "print('Median number of claps pro article: ', tr.totalClapCount.median())"
   ]
  },
  {
   "cell_type": "markdown",
   "metadata": {},
   "source": [
    "## 1. Create comparable train and test sets"
   ]
  },
  {
   "cell_type": "markdown",
   "metadata": {},
   "source": [
    "In this section we are going to reproduce columns missing in the test dataset and make training and testing samples comparable. "
   ]
  },
  {
   "cell_type": "markdown",
   "metadata": {},
   "source": [
    "### 1.1 Train set"
   ]
  },
  {
   "cell_type": "markdown",
   "metadata": {},
   "source": [
    "#### 1.1.1 get domain from url in train set"
   ]
  },
  {
   "cell_type": "code",
   "execution_count": 7,
   "metadata": {},
   "outputs": [],
   "source": [
    "tr['Domain'] = [re.findall(r'//(.+?)/',string)[0] for string in tr['url']]"
   ]
  },
  {
   "cell_type": "code",
   "execution_count": 8,
   "metadata": {},
   "outputs": [
    {
     "data": {
      "text/plain": [
       "medium.com                60157\n",
       "towardsdatascience.com     3641\n",
       "hackernoon.com             1226\n",
       "becominghuman.ai            684\n",
       "chatbotslife.com            447\n",
       "                          ...  \n",
       "blog.picnic.nl                1\n",
       "blog.vivifyideas.com          1\n",
       "festivalpeak.com              1\n",
       "dovetail.blog                 1\n",
       "blog.showoff.ie               1\n",
       "Name: Domain, Length: 1058, dtype: int64"
      ]
     },
     "execution_count": 8,
     "metadata": {},
     "output_type": "execute_result"
    }
   ],
   "source": [
    "tr['Domain'].value_counts()"
   ]
  },
  {
   "cell_type": "markdown",
   "metadata": {},
   "source": [
    "The articles are mostly coming from Medium itself, however there are also many articles that are coming from small personal blogs and other publishing platforms."
   ]
  },
  {
   "cell_type": "markdown",
   "metadata": {},
   "source": [
    "#### 1.1.2 Rename variables in train so that they are the same as in test "
   ]
  },
  {
   "cell_type": "code",
   "execution_count": 9,
   "metadata": {},
   "outputs": [
    {
     "name": "stdout",
     "output_type": "stream",
     "text": [
      "TRAIN:  Index(['totalClapCount', 'text', 'author', 'responsesCreatedCount', 'url',\n",
      "       'title', 'createdDate', 'wordCount', 'language', 'imageCount',\n",
      "       'Domain'],\n",
      "      dtype='object')\n",
      "TEST:  Index(['Unnamed: 0', 'index', 'Author', 'PublicationDetails', 'Responses',\n",
      "       'Header', 'Text', 'Length'],\n",
      "      dtype='object')\n"
     ]
    }
   ],
   "source": [
    "print('TRAIN: ', tr.columns)\n",
    "print('TEST: ', test.columns)"
   ]
  },
  {
   "cell_type": "code",
   "execution_count": 10,
   "metadata": {},
   "outputs": [],
   "source": [
    "tr.columns = ['Claps', 'Text', 'Author', 'Responces', 'URL', 'Header', 'Date', 'Length', 'Language', 'imageCount', 'Domain']"
   ]
  },
  {
   "cell_type": "code",
   "execution_count": 11,
   "metadata": {},
   "outputs": [
    {
     "data": {
      "text/plain": [
       "72337"
      ]
     },
     "execution_count": 11,
     "metadata": {},
     "output_type": "execute_result"
    }
   ],
   "source": [
    "tr = tr.drop('URL', axis = 1)\n",
    "len(tr)"
   ]
  },
  {
   "cell_type": "markdown",
   "metadata": {},
   "source": [
    "#### 1.1.3 Outliers"
   ]
  },
  {
   "cell_type": "markdown",
   "metadata": {},
   "source": [
    "Training sample contains several articles with extreme number of claps. In total, there is less than 0.5% of articles that have more than 5000 claps. In order to make future models more robust we filter those outliers out. "
   ]
  },
  {
   "cell_type": "code",
   "execution_count": 13,
   "metadata": {},
   "outputs": [
    {
     "data": {
      "text/plain": [
       "72045"
      ]
     },
     "execution_count": 13,
     "metadata": {},
     "output_type": "execute_result"
    }
   ],
   "source": [
    "tr = tr[tr['Claps'] < 5000]\n",
    "len(tr)"
   ]
  },
  {
   "cell_type": "markdown",
   "metadata": {},
   "source": [
    "### 1.2 Test set"
   ]
  },
  {
   "cell_type": "markdown",
   "metadata": {},
   "source": [
    "In this section we reproduce the features missing in test dataset."
   ]
  },
  {
   "cell_type": "markdown",
   "metadata": {},
   "source": [
    "#### 1.2.1 Get domain name"
   ]
  },
  {
   "cell_type": "code",
   "execution_count": 14,
   "metadata": {},
   "outputs": [
    {
     "name": "stdout",
     "output_type": "stream",
     "text": [
      "Netflix TechBlog            175\n",
      "NA                           93\n",
      "TE-FOOD                      34\n",
      "HackerNoon.com               21\n",
      "The Startup                  20\n",
      "                           ... \n",
      "BlockChannel                  1\n",
      "Sustainable food systems      1\n",
      "The Coinbase Blog             1\n",
      "Real Life Stories             1\n",
      "Cognitive Dissident           1\n",
      "Name: Domain, Length: 106, dtype: int64\n"
     ]
    }
   ],
   "source": [
    "import re\n",
    "test['Domain'] = [re.findall(r'in (.+?)[A-Z][a-z]+ \\d+[^.]*',string)[0] \\\n",
    "                  if len(re.findall(r'in (.+?)[A-Z][a-z]+ \\d+[^.]*',string)) != 0 else 'NA' \\\n",
    "                  for string in test['PublicationDetails']]\n",
    "\n",
    "print(test.Domain.value_counts())"
   ]
  },
  {
   "cell_type": "markdown",
   "metadata": {},
   "source": [
    "As we can see from the summary, article sources are very different in train in test datasets. As it is not possible to match them, this variable will not be considered in further analysis."
   ]
  },
  {
   "cell_type": "markdown",
   "metadata": {},
   "source": [
    "#### 1.2.2 Get date"
   ]
  },
  {
   "cell_type": "code",
   "execution_count": 15,
   "metadata": {},
   "outputs": [],
   "source": [
    "test['Date'] = [re.findall('[A-Z][a-z]+ \\d+[^.]*',string)[0] for string in test['PublicationDetails']]"
   ]
  },
  {
   "cell_type": "markdown",
   "metadata": {},
   "source": [
    "#### 1.2.3 Define Article language "
   ]
  },
  {
   "cell_type": "code",
   "execution_count": 16,
   "metadata": {},
   "outputs": [
    {
     "data": {
      "text/plain": [
       "en       511\n",
       "zh-tw      1\n",
       "pt         1\n",
       "ja         1\n",
       "Name: Language, dtype: int64"
      ]
     },
     "execution_count": 16,
     "metadata": {},
     "output_type": "execute_result"
    }
   ],
   "source": [
    "# detect article language in test set\n",
    "from langdetect import detect\n",
    "\n",
    "test['Language'] = [detect(text) for text in test['Text']]\n",
    "test['Language'].value_counts()"
   ]
  },
  {
   "cell_type": "markdown",
   "metadata": {},
   "source": [
    "#### 1.2.4 Get number of images "
   ]
  },
  {
   "cell_type": "code",
   "execution_count": 17,
   "metadata": {},
   "outputs": [
    {
     "data": {
      "text/plain": [
       "0     500\n",
       "8       2\n",
       "1       2\n",
       "18      1\n",
       "17      1\n",
       "15      1\n",
       "11      1\n",
       "10      1\n",
       "9       1\n",
       "7       1\n",
       "5       1\n",
       "3       1\n",
       "2       1\n",
       "Name: imageCount, dtype: int64"
      ]
     },
     "execution_count": 17,
     "metadata": {},
     "output_type": "execute_result"
    }
   ],
   "source": [
    "test['imageCount'] = [len(re.findall('<img(.+?)>',string)) for string in test['Text']]\n",
    "\n",
    "test['imageCount'].value_counts()"
   ]
  },
  {
   "cell_type": "markdown",
   "metadata": {},
   "source": [
    "## 2. Representativity Analysis"
   ]
  },
  {
   "cell_type": "markdown",
   "metadata": {},
   "source": [
    "In order to find out if test sample and train sample have similar statistical characteristics we perform representativity analysis based on some selected features. This analysis will help to understand how trustworthy the prediction on test dataset maybe."
   ]
  },
  {
   "cell_type": "markdown",
   "metadata": {},
   "source": [
    "#### 2.1. Language "
   ]
  },
  {
   "cell_type": "code",
   "execution_count": 18,
   "metadata": {},
   "outputs": [
    {
     "data": {
      "text/plain": [
       "0.9173155666597266"
      ]
     },
     "execution_count": 18,
     "metadata": {},
     "output_type": "execute_result"
    }
   ],
   "source": [
    "tr.Language.value_counts(normalize = True)['en']"
   ]
  },
  {
   "cell_type": "code",
   "execution_count": 19,
   "metadata": {},
   "outputs": [
    {
     "data": {
      "text/plain": [
       "en       0.994163\n",
       "zh-tw    0.001946\n",
       "pt       0.001946\n",
       "ja       0.001946\n",
       "Name: Language, dtype: float64"
      ]
     },
     "execution_count": 19,
     "metadata": {},
     "output_type": "execute_result"
    }
   ],
   "source": [
    "test.Language.value_counts(normalize = True)"
   ]
  },
  {
   "cell_type": "markdown",
   "metadata": {},
   "source": [
    "99,4% of Articles in the Test dataset are English speaking, therefore we consider this neglectanble and predicte number of claps for those article as a median claps value for non-English speaking articles from Train dataset. \n",
    "\n",
    "Train dataset contains around 8% non-English speaking articles. As most of the tools for text processing are trained for english and test sample is almost entirely english speaking, non-English speaking articles are filtered out and not considered in any further analysis. "
   ]
  },
  {
   "cell_type": "code",
   "execution_count": 20,
   "metadata": {},
   "outputs": [
    {
     "name": "stdout",
     "output_type": "stream",
     "text": [
      "Mean number of claps pro English speaking article:  106.43458721704394\n",
      "Median number of claps pro English speaking article:  6.0\n",
      "\n",
      "Mean number of claps pro non - English speaking article:  45.616753399362096\n",
      "Median number of claps pro non - English speaking article:  3.0\n"
     ]
    }
   ],
   "source": [
    "tr_eng = tr[tr['Language'] == 'en']\n",
    "tr_ne = tr[tr['Language'] != 'en']\n",
    "\n",
    "print('Mean number of claps pro English speaking article: ', tr_eng.Claps.mean())\n",
    "print('Median number of claps pro English speaking article: ', tr_eng.Claps.median())\n",
    "print(\"\")\n",
    "print('Mean number of claps pro non - English speaking article: ', tr_ne.Claps.mean())\n",
    "print('Median number of claps pro non - English speaking article: ', tr_ne.Claps.median())"
   ]
  },
  {
   "cell_type": "code",
   "execution_count": 21,
   "metadata": {},
   "outputs": [],
   "source": [
    "test_eng = test[test['Language'] == 'en']\n",
    "test_ne = test[test['Language'] != 'en']"
   ]
  },
  {
   "cell_type": "markdown",
   "metadata": {},
   "source": [
    "#### 2.2 Authors"
   ]
  },
  {
   "cell_type": "markdown",
   "metadata": {},
   "source": [
    "Another idea is to check if both datasets contain articles created by the same authors."
   ]
  },
  {
   "cell_type": "code",
   "execution_count": 22,
   "metadata": {},
   "outputs": [
    {
     "name": "stdout",
     "output_type": "stream",
     "text": [
      "13.9% of authors in test set were in train test as well\n"
     ]
    }
   ],
   "source": [
    "train_author = set(tr['Author'])\n",
    "test_author = set(test_eng['Author'])\n",
    "\n",
    "flag = [a in train_author for a in test_author]\n",
    "print(\"{}% of authors in test set were in train test as well\".format(round(sum(flag)/len(test_author)*100, 2)))"
   ]
  },
  {
   "cell_type": "markdown",
   "metadata": {},
   "source": [
    "However, as we can conclude from this calculation, just less than 14% of Authors from train set appear in the test dataset."
   ]
  },
  {
   "cell_type": "markdown",
   "metadata": {},
   "source": [
    "It should also be noted, that there are many Authors which wrote more than one article within each dataset. This will be further elaborated in the next chapter: Feature Engineering"
   ]
  },
  {
   "cell_type": "code",
   "execution_count": 23,
   "metadata": {},
   "outputs": [
    {
     "data": {
      "text/plain": [
       "(30934, 72045)"
      ]
     },
     "execution_count": 23,
     "metadata": {},
     "output_type": "execute_result"
    }
   ],
   "source": [
    "len(train_author), len(tr)"
   ]
  },
  {
   "cell_type": "markdown",
   "metadata": {},
   "source": [
    "#### 2.3 Length of Text"
   ]
  },
  {
   "cell_type": "code",
   "execution_count": 24,
   "metadata": {},
   "outputs": [
    {
     "data": {
      "image/png": "[encoded data removed]",
      "text/plain": [
       "<Figure size 432x288 with 1 Axes>"
      ]
     },
     "metadata": {
      "needs_background": "light"
     },
     "output_type": "display_data"
    }
   ],
   "source": [
    "max_length = max(max(tr_eng['Length']), max(test_eng['Length']))\n",
    "bins = np.linspace(0, max_length, 100)\n",
    "\n",
    "plt.hist(tr_eng['Length'], bins, alpha=0.5, label='Train set', density = True) #\n",
    "plt.hist(test_eng['Length'], bins, alpha=0.5, label='Test set', density = True) #\n",
    "plt.legend(loc='upper right')\n",
    "plt.show()"
   ]
  },
  {
   "cell_type": "markdown",
   "metadata": {},
   "source": [
    "As we can see from the graph, texts in test dataset tend to be longer."
   ]
  },
  {
   "cell_type": "markdown",
   "metadata": {},
   "source": [
    "#### 2.4 Number of Images"
   ]
  },
  {
   "cell_type": "code",
   "execution_count": 25,
   "metadata": {},
   "outputs": [
    {
     "data": {
      "text/plain": [
       "1      21573\n",
       "0       9677\n",
       "2       7939\n",
       "3       6004\n",
       "4       4623\n",
       "       ...  \n",
       "134        1\n",
       "143        1\n",
       "90         1\n",
       "263        1\n",
       "80         1\n",
       "Name: imageCount, Length: 86, dtype: int64"
      ]
     },
     "execution_count": 25,
     "metadata": {},
     "output_type": "execute_result"
    }
   ],
   "source": [
    "tr_eng.imageCount.value_counts()"
   ]
  },
  {
   "cell_type": "code",
   "execution_count": 27,
   "metadata": {},
   "outputs": [
    {
     "data": {
      "image/png": "[encoded data removed]",
      "text/plain": [
       "<Figure size 432x288 with 1 Axes>"
      ]
     },
     "metadata": {
      "needs_background": "light"
     },
     "output_type": "display_data"
    }
   ],
   "source": [
    "# train\n",
    "img_tr = tr_eng.imageCount.value_counts(normalize = True).sort_index()\n",
    "\n",
    "# clip frequencies of articles with more than 20 images \n",
    "mask = img_tr.index < 20\n",
    "tail = img_tr.loc[~mask].sum()\n",
    "img_tr = img_tr.loc[mask]\n",
    "\n",
    "#img_tr['20'] = tail_prob\n",
    "\n",
    "# test\n",
    "img_test = test_eng.imageCount.value_counts(normalize = True).sort_index()\n",
    "\n",
    "ax = plt.subplot(111)\n",
    "ax.bar(x = img_test.index, height = img_test, alpha = 0.5)\n",
    "ax.bar(x = img_tr.index + 0.25, height = img_tr, alpha = 0.5)\n",
    "ax.legend(('Test', 'Train'))\n",
    "plt.show()"
   ]
  },
  {
   "cell_type": "markdown",
   "metadata": {},
   "source": [
    "As we can see, there are almost no pictures in the articles from test set. "
   ]
  },
  {
   "cell_type": "markdown",
   "metadata": {},
   "source": [
    "## 3. Additional Feature Engineering"
   ]
  },
  {
   "cell_type": "markdown",
   "metadata": {},
   "source": [
    "### 3.1 Extract entities from text and calculate their number per category"
   ]
  },
  {
   "cell_type": "markdown",
   "metadata": {},
   "source": [
    "In this section we extract various Named Entities from Text and calculate their number. The idea of this analysis is that different proportion of different entities in the text may characterise the topic of the article as well as the style of writing (e.g. \"PERSON\" and \"GRE\" Named Entities in the Data Science article may mean that the author uses real life examples; \"QUANTITY\", \"PERCENT\" and \"MONEY\" may make the article less theoretical and more result oriented) \n",
    "\n",
    "In order to check this hypothesis I extract number of different entities mentioned in a text by means of SpaCy NER model. "
   ]
  },
  {
   "cell_type": "code",
   "execution_count": 28,
   "metadata": {},
   "outputs": [],
   "source": [
    "import spacy\n",
    "\n",
    "nlp = spacy.load(\"en_core_web_sm\")\n",
    "\n",
    "\n",
    "def get_entities(text):\n",
    "    # Function that gets named entities of particular type or all NE if label is not specified\n",
    "    # text: input string\n",
    "    \n",
    "    ents = nlp(text).ents\n",
    "    \n",
    "    PER, GPE, MONEY, ORG, LANGUAGE, QUANTITY, PERCENT, NORP = 0, 0, 0, 0, 0, 0, 0, 0\n",
    "\n",
    "    for i in ents: \n",
    "        PER += 1 if i.label_ == 'PERSON' else 0\n",
    "        GPE += 1 if i.label_ == 'GPE' else 0\n",
    "        MONEY += 1 if i.label_ == 'MONEY' else 0\n",
    "        ORG += 1 if i.label_ == 'ORG' else 0\n",
    "        LANGUAGE += 1 if i.label_ == 'LANGUAGE' else 0\n",
    "        QUANTITY += 1 if i.label_ == 'QUANTITY' else 0\n",
    "        PERCENT += 1 if i.label_ == 'PERCENT' else 0\n",
    "        NORP += 1 if i.label_ == 'NORP' else 0\n",
    "\n",
    "\n",
    "    return (PER, GPE, MONEY, ORG, LANGUAGE, QUANTITY, PERCENT, NORP)"
   ]
  },
  {
   "cell_type": "markdown",
   "metadata": {},
   "source": [
    "The following cells are deactivated because thez take around 2 hours to run. Please, activate to recalculate the results"
   ]
  },
  {
   "cell_type": "code",
   "execution_count": null,
   "metadata": {},
   "outputs": [],
   "source": [
    "# apply fuction to all texts in train set\n",
    "# list of texts\n",
    "tr_texts = tr_eng['Text'].reset_index(drop = True)\n",
    "\n",
    "mentions_tr = list(map(get_entities, tqdm(tr_texts)))"
   ]
  },
  {
   "cell_type": "code",
   "execution_count": 31,
   "metadata": {},
   "outputs": [
    {
     "name": "stderr",
     "output_type": "stream",
     "text": [
      "100%|█████████████████████████████████████████████████████████████████████████████████████████| 511/511 [01:01<00:00,  8.28it/s]\n"
     ]
    }
   ],
   "source": [
    "# apply fuction to all texts in train set\n",
    "# list of texts\n",
    "test_texts = test_eng['Text'].reset_index(drop = True)\n",
    "\n",
    "mentions_test = list(map(get_entities, tqdm(test_texts)))"
   ]
  },
  {
   "cell_type": "code",
   "execution_count": null,
   "metadata": {},
   "outputs": [],
   "source": [
    "# Concatenate table of mentions with initial dataset\n",
    "# Because map resumes the order we do not have to take care of the index and can just concatenate\n",
    "\n",
    "Mentions_tr = pd.DataFrame(mentions_tr, columns = [\"PER\", \"GPE\", \"MONEY\", \"ORG\", \"LANGUAGE\", \"QUANTITY\", \"PERCENT\", \"NORP\"])\n",
    "tr_eng_mentions = pd.concat([tr_eng.reset_index(drop = True), Mentions_tr], axis=1)"
   ]
  },
  {
   "cell_type": "code",
   "execution_count": 36,
   "metadata": {},
   "outputs": [],
   "source": [
    "# Concatenate table of mentions with initial dataset\n",
    "Mentions_test = pd.DataFrame(mentions_test, columns = [\"PER\", \"GPE\", \"MONEY\", \"ORG\", \"LANGUAGE\", \"QUANTITY\", \"PERCENT\", \"NORP\"])\n",
    "test_eng_mentions = pd.concat([test_eng.reset_index(drop = True), Mentions_test], axis=1)"
   ]
  },
  {
   "cell_type": "markdown",
   "metadata": {},
   "source": [
    "### 3.2 Number of articles per Author "
   ]
  },
  {
   "cell_type": "markdown",
   "metadata": {},
   "source": [
    "We believe that another valuable feature that may provide valuable insides to the model is number of articles written by the same author. Unfortunately, we cannot obtain a presize number of articles per author due to dataset limitations, however we can approximately estimate this assuming that Medium is a relatively new platform that was founded in 2012. Therefore, with the dataset starting in XXX we can estimate number of articles per author resonabely good. "
   ]
  },
  {
   "cell_type": "code",
   "execution_count": null,
   "metadata": {},
   "outputs": [],
   "source": [
    "tr_eng_mentions['author_freq'] = tr_eng_mentions.groupby('Author')['Author'].transform('count')"
   ]
  },
  {
   "cell_type": "code",
   "execution_count": 37,
   "metadata": {},
   "outputs": [],
   "source": [
    "test_eng_mentions['author_freq'] = test_eng_mentions.groupby('Author')['Author'].transform('count')"
   ]
  },
  {
   "cell_type": "markdown",
   "metadata": {},
   "source": [
    "##### Save preprocessed train and test datasets to save time "
   ]
  },
  {
   "cell_type": "code",
   "execution_count": null,
   "metadata": {},
   "outputs": [],
   "source": [
    "tr_eng_mentions.to_csv(\"train_pro.csv\")"
   ]
  },
  {
   "cell_type": "code",
   "execution_count": 39,
   "metadata": {},
   "outputs": [],
   "source": [
    "test_eng_mentions.to_csv(\"test_pro.csv\")"
   ]
  },
  {
   "cell_type": "markdown",
   "metadata": {},
   "source": [
    "## 4. Extracting additional information from text fields"
   ]
  },
  {
   "cell_type": "markdown",
   "metadata": {},
   "source": [
    "### Header classification with BERT\n",
    "\n",
    "According to the hypothesis, number of likes depends a lot on the ability of article header to catch the attention and attrach new auditory.  \n",
    "\n",
    "\n",
    "In order to get some additional information from text headers I am going to categorize number of claps and use it as a label in multiclass classification. Text classification task is going to be performed using modern architecture: BERT for text classification implemented in transformers library from HuggingFace following the BERT Fine-Tuning Tutorial with PyTorch from Chris McCormick and Nick Ryan:\n",
    "\n",
    "Chris McCormick and Nick Ryan. (2019, July 22). BERT Fine-Tuning Tutorial with PyTorch. Retrieved from http://www.mccormickml.com"
   ]
  },
  {
   "cell_type": "markdown",
   "metadata": {},
   "source": [
    "#### Import packages "
   ]
  },
  {
   "cell_type": "code",
   "execution_count": 40,
   "metadata": {},
   "outputs": [],
   "source": [
    "import pandas as pd\n",
    "from tqdm import tqdm\n",
    "from sklearn.preprocessing import KBinsDiscretizer as KBins\n",
    "import torch\n",
    "\n",
    "import matplotlib.pyplot as plt\n",
    "import seaborn as sns"
   ]
  },
  {
   "cell_type": "markdown",
   "metadata": {},
   "source": [
    "#### Get saved datasets "
   ]
  },
  {
   "cell_type": "code",
   "execution_count": 44,
   "metadata": {},
   "outputs": [],
   "source": [
    "train = pd.read_csv(\"train_pro.csv\")\n",
    "test = pd.read_csv(\"test_pro.csv\")"
   ]
  },
  {
   "cell_type": "code",
   "execution_count": 45,
   "metadata": {},
   "outputs": [
    {
     "data": {
      "text/plain": [
       "(Index(['Unnamed: 0', 'Claps', 'Text', 'Author', 'Responces', 'Header', 'Date',\n",
       "        'Length', 'Language', 'imageCount', 'Domain', 'PER_mentions',\n",
       "        'author_freq', 'PER', 'GPE', 'MONEY', 'ORG', 'LANGUAGE', 'QUANTITY',\n",
       "        'PERCENT', 'NORP'],\n",
       "       dtype='object'),\n",
       " Index(['Unnamed: 0', 'Unnamed: 0.1', 'index', 'Author', 'PublicationDetails',\n",
       "        'Responses', 'Header', 'Text', 'Length', 'Domain', 'Date', 'Language',\n",
       "        'imageCount', 'PER', 'GPE', 'MONEY', 'ORG', 'LANGUAGE', 'QUANTITY',\n",
       "        'PERCENT', 'NORP', 'author_freq'],\n",
       "       dtype='object'))"
      ]
     },
     "execution_count": 45,
     "metadata": {},
     "output_type": "execute_result"
    }
   ],
   "source": [
    "train.columns, test.columns"
   ]
  },
  {
   "cell_type": "code",
   "execution_count": 46,
   "metadata": {},
   "outputs": [],
   "source": [
    "train = train.drop( \"Unnamed: 0\", axis = 1)\n",
    "test = test.drop(['Unnamed: 0', 'Unnamed: 0.1'], axis = 1)"
   ]
  },
  {
   "cell_type": "markdown",
   "metadata": {},
   "source": [
    "#### Define device (CPU or GPU)"
   ]
  },
  {
   "cell_type": "code",
   "execution_count": 47,
   "metadata": {},
   "outputs": [],
   "source": [
    "device_name = 'cuda' if torch.cuda.is_available() else 'cpu'\n",
    "device = torch.device(device_name)"
   ]
  },
  {
   "cell_type": "markdown",
   "metadata": {},
   "source": [
    "#### Data loading "
   ]
  },
  {
   "cell_type": "code",
   "execution_count": 48,
   "metadata": {},
   "outputs": [],
   "source": [
    "X = train[\"Header\"]\n",
    "y = train['Claps']\n",
    "\n",
    "\n",
    "# Reformat nan values in X\n",
    "X = [str(i) if i != None else 'nan' for i in X]"
   ]
  },
  {
   "cell_type": "markdown",
   "metadata": {},
   "source": [
    "Tried out different binning methods like quantiles and kmeans, but decided for a custom one"
   ]
  },
  {
   "cell_type": "raw",
   "metadata": {},
   "source": [
    "# Bin the values of claps\n",
    "target = y.values.reshape(len(y),1)\n",
    "b = KBins(n_bins=10, encode='ordinal', strategy='kmeans')\n",
    "\n",
    "y_bin = b.fit_transform(target)\n",
    "\n",
    "df = pd.DataFrame(zip(y, y_bin.flatten().astype(int)), columns = ['y','y_bin'])\n",
    "df.groupby('y_bin').agg({'y': [min, max, len]})"
   ]
  },
  {
   "cell_type": "code",
   "execution_count": 49,
   "metadata": {},
   "outputs": [],
   "source": [
    "thresholds = [0, 50, 100, 200, 500, max(y)]\n",
    "#labs = ['0+','50+','100+','200+','500+']\n",
    "labs = [0,1,2,3,4]\n",
    "y_bin = torch.LongTensor(pd.cut(y, bins = thresholds, labels = labs, include_lowest=True))"
   ]
  },
  {
   "cell_type": "markdown",
   "metadata": {},
   "source": [
    "#### Load pretrained Model and Tokenizer"
   ]
  },
  {
   "cell_type": "code",
   "execution_count": 50,
   "metadata": {},
   "outputs": [
    {
     "name": "stderr",
     "output_type": "stream",
     "text": [
      "PyTorch version 1.5.1 available.\n",
      "TensorFlow version 2.2.0 available.\n",
      "loading file https://s3.amazonaws.com/models.huggingface.co/bert/bert-base-uncased-vocab.txt from cache at C:\\Users\\MSDesktop/.cache\\torch\\transformers\\26bc1ad6c0ac742e9b52263248f6d0f00068293b33709fae12320c0e35ccfbbb.542ce4285a40d23a559526243235df47c5f75c197f04f37d1a0c124c32c9a084\n",
      "loading configuration file https://s3.amazonaws.com/models.huggingface.co/bert/bert-base-uncased-config.json from cache at C:\\Users\\MSDesktop/.cache\\torch\\transformers\\4dad0251492946e18ac39290fcfe91b89d370fee250efe9521476438fe8ca185.7156163d5fdc189c3016baca0775ffce230789d7fa2a42ef516483e4ca884517\n",
      "Model config BertConfig {\n",
      "  \"architectures\": [\n",
      "    \"BertForMaskedLM\"\n",
      "  ],\n",
      "  \"attention_probs_dropout_prob\": 0.1,\n",
      "  \"gradient_checkpointing\": false,\n",
      "  \"hidden_act\": \"gelu\",\n",
      "  \"hidden_dropout_prob\": 0.1,\n",
      "  \"hidden_size\": 768,\n",
      "  \"id2label\": {\n",
      "    \"0\": \"LABEL_0\",\n",
      "    \"1\": \"LABEL_1\",\n",
      "    \"2\": \"LABEL_2\",\n",
      "    \"3\": \"LABEL_3\",\n",
      "    \"4\": \"LABEL_4\",\n",
      "    \"5\": \"LABEL_5\"\n",
      "  },\n",
      "  \"initializer_range\": 0.02,\n",
      "  \"intermediate_size\": 3072,\n",
      "  \"label2id\": {\n",
      "    \"LABEL_0\": 0,\n",
      "    \"LABEL_1\": 1,\n",
      "    \"LABEL_2\": 2,\n",
      "    \"LABEL_3\": 3,\n",
      "    \"LABEL_4\": 4,\n",
      "    \"LABEL_5\": 5\n",
      "  },\n",
      "  \"layer_norm_eps\": 1e-12,\n",
      "  \"max_position_embeddings\": 512,\n",
      "  \"model_type\": \"bert\",\n",
      "  \"num_attention_heads\": 12,\n",
      "  \"num_hidden_layers\": 12,\n",
      "  \"pad_token_id\": 0,\n",
      "  \"type_vocab_size\": 2,\n",
      "  \"vocab_size\": 30522\n",
      "}\n",
      "\n",
      "loading weights file https://cdn.huggingface.co/bert-base-uncased-pytorch_model.bin from cache at C:\\Users\\MSDesktop/.cache\\torch\\transformers\\f2ee78bdd635b758cc0a12352586868bef80e47401abe4c4fcc3832421e7338b.36ca03ab34a1a5d5fa7bc3d03d55c4fa650fed07220e2eeebc06ce58d0e9a157\n",
      "Some weights of the model checkpoint at bert-base-uncased were not used when initializing BertForSequenceClassification: ['cls.predictions.bias', 'cls.predictions.transform.dense.weight', 'cls.predictions.transform.dense.bias', 'cls.predictions.decoder.weight', 'cls.seq_relationship.weight', 'cls.seq_relationship.bias', 'cls.predictions.transform.LayerNorm.weight', 'cls.predictions.transform.LayerNorm.bias']\n",
      "- This IS expected if you are initializing BertForSequenceClassification from the checkpoint of a model trained on another task or with another architecture (e.g. initializing a BertForSequenceClassification model from a BertForPretraining model).\n",
      "- This IS NOT expected if you are initializing BertForSequenceClassification from the checkpoint of a model that you expect to be exactly identical (initializing a BertForSequenceClassification model from a BertForSequenceClassification model).\n",
      "Some weights of BertForSequenceClassification were not initialized from the model checkpoint at bert-base-uncased and are newly initialized: ['classifier.weight', 'classifier.bias']\n",
      "You should probably TRAIN this model on a down-stream task to be able to use it for predictions and inference.\n"
     ]
    },
    {
     "data": {
      "text/plain": [
       "BertForSequenceClassification(\n",
       "  (bert): BertModel(\n",
       "    (embeddings): BertEmbeddings(\n",
       "      (word_embeddings): Embedding(30522, 768, padding_idx=0)\n",
       "      (position_embeddings): Embedding(512, 768)\n",
       "      (token_type_embeddings): Embedding(2, 768)\n",
       "      (LayerNorm): LayerNorm((768,), eps=1e-12, elementwise_affine=True)\n",
       "      (dropout): Dropout(p=0.1, inplace=False)\n",
       "    )\n",
       "    (encoder): BertEncoder(\n",
       "      (layer): ModuleList(\n",
       "        (0): BertLayer(\n",
       "          (attention): BertAttention(\n",
       "            (self): BertSelfAttention(\n",
       "              (query): Linear(in_features=768, out_features=768, bias=True)\n",
       "              (key): Linear(in_features=768, out_features=768, bias=True)\n",
       "              (value): Linear(in_features=768, out_features=768, bias=True)\n",
       "              (dropout): Dropout(p=0.1, inplace=False)\n",
       "            )\n",
       "            (output): BertSelfOutput(\n",
       "              (dense): Linear(in_features=768, out_features=768, bias=True)\n",
       "              (LayerNorm): LayerNorm((768,), eps=1e-12, elementwise_affine=True)\n",
       "              (dropout): Dropout(p=0.1, inplace=False)\n",
       "            )\n",
       "          )\n",
       "          (intermediate): BertIntermediate(\n",
       "            (dense): Linear(in_features=768, out_features=3072, bias=True)\n",
       "          )\n",
       "          (output): BertOutput(\n",
       "            (dense): Linear(in_features=3072, out_features=768, bias=True)\n",
       "            (LayerNorm): LayerNorm((768,), eps=1e-12, elementwise_affine=True)\n",
       "            (dropout): Dropout(p=0.1, inplace=False)\n",
       "          )\n",
       "        )\n",
       "        (1): BertLayer(\n",
       "          (attention): BertAttention(\n",
       "            (self): BertSelfAttention(\n",
       "              (query): Linear(in_features=768, out_features=768, bias=True)\n",
       "              (key): Linear(in_features=768, out_features=768, bias=True)\n",
       "              (value): Linear(in_features=768, out_features=768, bias=True)\n",
       "              (dropout): Dropout(p=0.1, inplace=False)\n",
       "            )\n",
       "            (output): BertSelfOutput(\n",
       "              (dense): Linear(in_features=768, out_features=768, bias=True)\n",
       "              (LayerNorm): LayerNorm((768,), eps=1e-12, elementwise_affine=True)\n",
       "              (dropout): Dropout(p=0.1, inplace=False)\n",
       "            )\n",
       "          )\n",
       "          (intermediate): BertIntermediate(\n",
       "            (dense): Linear(in_features=768, out_features=3072, bias=True)\n",
       "          )\n",
       "          (output): BertOutput(\n",
       "            (dense): Linear(in_features=3072, out_features=768, bias=True)\n",
       "            (LayerNorm): LayerNorm((768,), eps=1e-12, elementwise_affine=True)\n",
       "            (dropout): Dropout(p=0.1, inplace=False)\n",
       "          )\n",
       "        )\n",
       "        (2): BertLayer(\n",
       "          (attention): BertAttention(\n",
       "            (self): BertSelfAttention(\n",
       "              (query): Linear(in_features=768, out_features=768, bias=True)\n",
       "              (key): Linear(in_features=768, out_features=768, bias=True)\n",
       "              (value): Linear(in_features=768, out_features=768, bias=True)\n",
       "              (dropout): Dropout(p=0.1, inplace=False)\n",
       "            )\n",
       "            (output): BertSelfOutput(\n",
       "              (dense): Linear(in_features=768, out_features=768, bias=True)\n",
       "              (LayerNorm): LayerNorm((768,), eps=1e-12, elementwise_affine=True)\n",
       "              (dropout): Dropout(p=0.1, inplace=False)\n",
       "            )\n",
       "          )\n",
       "          (intermediate): BertIntermediate(\n",
       "            (dense): Linear(in_features=768, out_features=3072, bias=True)\n",
       "          )\n",
       "          (output): BertOutput(\n",
       "            (dense): Linear(in_features=3072, out_features=768, bias=True)\n",
       "            (LayerNorm): LayerNorm((768,), eps=1e-12, elementwise_affine=True)\n",
       "            (dropout): Dropout(p=0.1, inplace=False)\n",
       "          )\n",
       "        )\n",
       "        (3): BertLayer(\n",
       "          (attention): BertAttention(\n",
       "            (self): BertSelfAttention(\n",
       "              (query): Linear(in_features=768, out_features=768, bias=True)\n",
       "              (key): Linear(in_features=768, out_features=768, bias=True)\n",
       "              (value): Linear(in_features=768, out_features=768, bias=True)\n",
       "              (dropout): Dropout(p=0.1, inplace=False)\n",
       "            )\n",
       "            (output): BertSelfOutput(\n",
       "              (dense): Linear(in_features=768, out_features=768, bias=True)\n",
       "              (LayerNorm): LayerNorm((768,), eps=1e-12, elementwise_affine=True)\n",
       "              (dropout): Dropout(p=0.1, inplace=False)\n",
       "            )\n",
       "          )\n",
       "          (intermediate): BertIntermediate(\n",
       "            (dense): Linear(in_features=768, out_features=3072, bias=True)\n",
       "          )\n",
       "          (output): BertOutput(\n",
       "            (dense): Linear(in_features=3072, out_features=768, bias=True)\n",
       "            (LayerNorm): LayerNorm((768,), eps=1e-12, elementwise_affine=True)\n",
       "            (dropout): Dropout(p=0.1, inplace=False)\n",
       "          )\n",
       "        )\n",
       "        (4): BertLayer(\n",
       "          (attention): BertAttention(\n",
       "            (self): BertSelfAttention(\n",
       "              (query): Linear(in_features=768, out_features=768, bias=True)\n",
       "              (key): Linear(in_features=768, out_features=768, bias=True)\n",
       "              (value): Linear(in_features=768, out_features=768, bias=True)\n",
       "              (dropout): Dropout(p=0.1, inplace=False)\n",
       "            )\n",
       "            (output): BertSelfOutput(\n",
       "              (dense): Linear(in_features=768, out_features=768, bias=True)\n",
       "              (LayerNorm): LayerNorm((768,), eps=1e-12, elementwise_affine=True)\n",
       "              (dropout): Dropout(p=0.1, inplace=False)\n",
       "            )\n",
       "          )\n",
       "          (intermediate): BertIntermediate(\n",
       "            (dense): Linear(in_features=768, out_features=3072, bias=True)\n",
       "          )\n",
       "          (output): BertOutput(\n",
       "            (dense): Linear(in_features=3072, out_features=768, bias=True)\n",
       "            (LayerNorm): LayerNorm((768,), eps=1e-12, elementwise_affine=True)\n",
       "            (dropout): Dropout(p=0.1, inplace=False)\n",
       "          )\n",
       "        )\n",
       "        (5): BertLayer(\n",
       "          (attention): BertAttention(\n",
       "            (self): BertSelfAttention(\n",
       "              (query): Linear(in_features=768, out_features=768, bias=True)\n",
       "              (key): Linear(in_features=768, out_features=768, bias=True)\n",
       "              (value): Linear(in_features=768, out_features=768, bias=True)\n",
       "              (dropout): Dropout(p=0.1, inplace=False)\n",
       "            )\n",
       "            (output): BertSelfOutput(\n",
       "              (dense): Linear(in_features=768, out_features=768, bias=True)\n",
       "              (LayerNorm): LayerNorm((768,), eps=1e-12, elementwise_affine=True)\n",
       "              (dropout): Dropout(p=0.1, inplace=False)\n",
       "            )\n",
       "          )\n",
       "          (intermediate): BertIntermediate(\n",
       "            (dense): Linear(in_features=768, out_features=3072, bias=True)\n",
       "          )\n",
       "          (output): BertOutput(\n",
       "            (dense): Linear(in_features=3072, out_features=768, bias=True)\n",
       "            (LayerNorm): LayerNorm((768,), eps=1e-12, elementwise_affine=True)\n",
       "            (dropout): Dropout(p=0.1, inplace=False)\n",
       "          )\n",
       "        )\n",
       "        (6): BertLayer(\n",
       "          (attention): BertAttention(\n",
       "            (self): BertSelfAttention(\n",
       "              (query): Linear(in_features=768, out_features=768, bias=True)\n",
       "              (key): Linear(in_features=768, out_features=768, bias=True)\n",
       "              (value): Linear(in_features=768, out_features=768, bias=True)\n",
       "              (dropout): Dropout(p=0.1, inplace=False)\n",
       "            )\n",
       "            (output): BertSelfOutput(\n",
       "              (dense): Linear(in_features=768, out_features=768, bias=True)\n",
       "              (LayerNorm): LayerNorm((768,), eps=1e-12, elementwise_affine=True)\n",
       "              (dropout): Dropout(p=0.1, inplace=False)\n",
       "            )\n",
       "          )\n",
       "          (intermediate): BertIntermediate(\n",
       "            (dense): Linear(in_features=768, out_features=3072, bias=True)\n",
       "          )\n",
       "          (output): BertOutput(\n",
       "            (dense): Linear(in_features=3072, out_features=768, bias=True)\n",
       "            (LayerNorm): LayerNorm((768,), eps=1e-12, elementwise_affine=True)\n",
       "            (dropout): Dropout(p=0.1, inplace=False)\n",
       "          )\n",
       "        )\n",
       "        (7): BertLayer(\n",
       "          (attention): BertAttention(\n",
       "            (self): BertSelfAttention(\n",
       "              (query): Linear(in_features=768, out_features=768, bias=True)\n",
       "              (key): Linear(in_features=768, out_features=768, bias=True)\n",
       "              (value): Linear(in_features=768, out_features=768, bias=True)\n",
       "              (dropout): Dropout(p=0.1, inplace=False)\n",
       "            )\n",
       "            (output): BertSelfOutput(\n",
       "              (dense): Linear(in_features=768, out_features=768, bias=True)\n",
       "              (LayerNorm): LayerNorm((768,), eps=1e-12, elementwise_affine=True)\n",
       "              (dropout): Dropout(p=0.1, inplace=False)\n",
       "            )\n",
       "          )\n",
       "          (intermediate): BertIntermediate(\n",
       "            (dense): Linear(in_features=768, out_features=3072, bias=True)\n",
       "          )\n",
       "          (output): BertOutput(\n",
       "            (dense): Linear(in_features=3072, out_features=768, bias=True)\n",
       "            (LayerNorm): LayerNorm((768,), eps=1e-12, elementwise_affine=True)\n",
       "            (dropout): Dropout(p=0.1, inplace=False)\n",
       "          )\n",
       "        )\n",
       "        (8): BertLayer(\n",
       "          (attention): BertAttention(\n",
       "            (self): BertSelfAttention(\n",
       "              (query): Linear(in_features=768, out_features=768, bias=True)\n",
       "              (key): Linear(in_features=768, out_features=768, bias=True)\n",
       "              (value): Linear(in_features=768, out_features=768, bias=True)\n",
       "              (dropout): Dropout(p=0.1, inplace=False)\n",
       "            )\n",
       "            (output): BertSelfOutput(\n",
       "              (dense): Linear(in_features=768, out_features=768, bias=True)\n",
       "              (LayerNorm): LayerNorm((768,), eps=1e-12, elementwise_affine=True)\n",
       "              (dropout): Dropout(p=0.1, inplace=False)\n",
       "            )\n",
       "          )\n",
       "          (intermediate): BertIntermediate(\n",
       "            (dense): Linear(in_features=768, out_features=3072, bias=True)\n",
       "          )\n",
       "          (output): BertOutput(\n",
       "            (dense): Linear(in_features=3072, out_features=768, bias=True)\n",
       "            (LayerNorm): LayerNorm((768,), eps=1e-12, elementwise_affine=True)\n",
       "            (dropout): Dropout(p=0.1, inplace=False)\n",
       "          )\n",
       "        )\n",
       "        (9): BertLayer(\n",
       "          (attention): BertAttention(\n",
       "            (self): BertSelfAttention(\n",
       "              (query): Linear(in_features=768, out_features=768, bias=True)\n",
       "              (key): Linear(in_features=768, out_features=768, bias=True)\n",
       "              (value): Linear(in_features=768, out_features=768, bias=True)\n",
       "              (dropout): Dropout(p=0.1, inplace=False)\n",
       "            )\n",
       "            (output): BertSelfOutput(\n",
       "              (dense): Linear(in_features=768, out_features=768, bias=True)\n",
       "              (LayerNorm): LayerNorm((768,), eps=1e-12, elementwise_affine=True)\n",
       "              (dropout): Dropout(p=0.1, inplace=False)\n",
       "            )\n",
       "          )\n",
       "          (intermediate): BertIntermediate(\n",
       "            (dense): Linear(in_features=768, out_features=3072, bias=True)\n",
       "          )\n",
       "          (output): BertOutput(\n",
       "            (dense): Linear(in_features=3072, out_features=768, bias=True)\n",
       "            (LayerNorm): LayerNorm((768,), eps=1e-12, elementwise_affine=True)\n",
       "            (dropout): Dropout(p=0.1, inplace=False)\n",
       "          )\n",
       "        )\n",
       "        (10): BertLayer(\n",
       "          (attention): BertAttention(\n",
       "            (self): BertSelfAttention(\n",
       "              (query): Linear(in_features=768, out_features=768, bias=True)\n",
       "              (key): Linear(in_features=768, out_features=768, bias=True)\n",
       "              (value): Linear(in_features=768, out_features=768, bias=True)\n",
       "              (dropout): Dropout(p=0.1, inplace=False)\n",
       "            )\n",
       "            (output): BertSelfOutput(\n",
       "              (dense): Linear(in_features=768, out_features=768, bias=True)\n",
       "              (LayerNorm): LayerNorm((768,), eps=1e-12, elementwise_affine=True)\n",
       "              (dropout): Dropout(p=0.1, inplace=False)\n",
       "            )\n",
       "          )\n",
       "          (intermediate): BertIntermediate(\n",
       "            (dense): Linear(in_features=768, out_features=3072, bias=True)\n",
       "          )\n",
       "          (output): BertOutput(\n",
       "            (dense): Linear(in_features=3072, out_features=768, bias=True)\n",
       "            (LayerNorm): LayerNorm((768,), eps=1e-12, elementwise_affine=True)\n",
       "            (dropout): Dropout(p=0.1, inplace=False)\n",
       "          )\n",
       "        )\n",
       "        (11): BertLayer(\n",
       "          (attention): BertAttention(\n",
       "            (self): BertSelfAttention(\n",
       "              (query): Linear(in_features=768, out_features=768, bias=True)\n",
       "              (key): Linear(in_features=768, out_features=768, bias=True)\n",
       "              (value): Linear(in_features=768, out_features=768, bias=True)\n",
       "              (dropout): Dropout(p=0.1, inplace=False)\n",
       "            )\n",
       "            (output): BertSelfOutput(\n",
       "              (dense): Linear(in_features=768, out_features=768, bias=True)\n",
       "              (LayerNorm): LayerNorm((768,), eps=1e-12, elementwise_affine=True)\n",
       "              (dropout): Dropout(p=0.1, inplace=False)\n",
       "            )\n",
       "          )\n",
       "          (intermediate): BertIntermediate(\n",
       "            (dense): Linear(in_features=768, out_features=3072, bias=True)\n",
       "          )\n",
       "          (output): BertOutput(\n",
       "            (dense): Linear(in_features=3072, out_features=768, bias=True)\n",
       "            (LayerNorm): LayerNorm((768,), eps=1e-12, elementwise_affine=True)\n",
       "            (dropout): Dropout(p=0.1, inplace=False)\n",
       "          )\n",
       "        )\n",
       "      )\n",
       "    )\n",
       "    (pooler): BertPooler(\n",
       "      (dense): Linear(in_features=768, out_features=768, bias=True)\n",
       "      (activation): Tanh()\n",
       "    )\n",
       "  )\n",
       "  (dropout): Dropout(p=0.1, inplace=False)\n",
       "  (classifier): Linear(in_features=768, out_features=6, bias=True)\n",
       ")"
      ]
     },
     "execution_count": 50,
     "metadata": {},
     "output_type": "execute_result"
    }
   ],
   "source": [
    "from transformers import BertTokenizer\n",
    "from transformers import BertForSequenceClassification, AdamW, BertConfig\n",
    "\n",
    "\n",
    "# Load the BERT tokenizer.\n",
    "tokenizer = BertTokenizer.from_pretrained('bert-base-uncased', do_lower_case=True)\n",
    "\n",
    "# Load pretrained BERT model\n",
    "model = BertForSequenceClassification.from_pretrained(\"bert-base-uncased\", num_labels = 6)\n",
    "model.cuda()"
   ]
  },
  {
   "cell_type": "markdown",
   "metadata": {},
   "source": [
    "#### Tokenize the sentences in train set"
   ]
  },
  {
   "cell_type": "code",
   "execution_count": 51,
   "metadata": {},
   "outputs": [
    {
     "name": "stderr",
     "output_type": "stream",
     "text": [
      "  0%|                                                                                                 | 0/66088 [00:00<?, ?it/s]c:\\users\\msdesktop\\transformers\\src\\transformers\\tokenization_utils_base.py:1764: FutureWarning: The `pad_to_max_length` argument is deprecated and will be removed in a future version, use `padding=True` or `padding='longest'` to pad to the longest sequence in the batch, or use `padding='max_length'` to pad to a max length. In this case, you can give a specific length with `max_length` (e.g. `max_length=45`) or leave max_length to None to pad to the maximal input size of the model (e.g. 512 for Bert).\n",
      "  warnings.warn(\n",
      "100%|███████████████████████████████████████████████████████████████████████████████████| 66088/66088 [00:13<00:00, 4976.00it/s]\n",
      "<ipython-input-51-64f7885db163>:36: UserWarning: To copy construct from a tensor, it is recommended to use sourceTensor.clone().detach() or sourceTensor.clone().detach().requires_grad_(True), rather than torch.tensor(sourceTensor).\n",
      "  labels = torch.tensor(y_bin)\n"
     ]
    }
   ],
   "source": [
    "# Tokenize all of the sentences and map the tokens to thier word IDs.\n",
    "input_ids = []\n",
    "attention_masks = []\n",
    "\n",
    "\n",
    "\n",
    "# For every sentence...\n",
    "for sent in tqdm(X):\n",
    "    # `encode_plus` will:\n",
    "    #   (1) Tokenize the sentence.\n",
    "    #   (2) Prepend the `[CLS]` token to the start.\n",
    "    #   (3) Append the `[SEP]` token to the end.\n",
    "    #   (4) Map tokens to their IDs.\n",
    "    #   (5) Pad or truncate the sentence to `max_length`\n",
    "    #   (6) Create attention masks for [PAD] tokens.\n",
    "\n",
    "    encoded_dict = tokenizer.encode_plus(\n",
    "                        sent,                      # Sentence to encode.\n",
    "                        add_special_tokens = True, # Add '[CLS]' and '[SEP]'\n",
    "                        max_length = 40,           # Pad & truncate all sentences.\n",
    "                        truncation=True,\n",
    "                        pad_to_max_length = True,\n",
    "                        return_attention_mask = True,   # Construct attn. masks.\n",
    "                        return_tensors = 'pt',     # Return pytorch tensors.\n",
    "                   )\n",
    "\n",
    "    # Add the encoded sentence to the list.    \n",
    "    input_ids.append(encoded_dict['input_ids'])\n",
    "\n",
    "    # And its attention mask (simply differentiates padding from non-padding).\n",
    "    attention_masks.append(encoded_dict['attention_mask'])\n",
    "\n",
    "# Convert the lists into tensors.\n",
    "input_ids = torch.cat(input_ids, dim=0)\n",
    "attention_masks = torch.cat(attention_masks, dim=0)\n",
    "labels = torch.tensor(y_bin)\n"
   ]
  },
  {
   "cell_type": "markdown",
   "metadata": {},
   "source": [
    "#### Train - Test Split"
   ]
  },
  {
   "cell_type": "code",
   "execution_count": 52,
   "metadata": {},
   "outputs": [
    {
     "name": "stdout",
     "output_type": "stream",
     "text": [
      "46,261 training samples\n",
      "19,827 validation samples\n"
     ]
    }
   ],
   "source": [
    "from torch.utils.data import TensorDataset, random_split\n",
    "\n",
    "# Combine the training inputs into a TensorDataset.\n",
    "dataset = TensorDataset(input_ids, attention_masks, labels)\n",
    "\n",
    "# Create a 70-30 train-validation split.\n",
    "\n",
    "# Calculate the number of samples to include in each set.\n",
    "train_size = int(0.7 * len(dataset))\n",
    "val_size = len(dataset) - train_size\n",
    "\n",
    "# Divide the dataset by randomly selecting samples.\n",
    "train_dataset, val_dataset = random_split(dataset, [train_size, val_size])\n",
    "\n",
    "print('{:>5,} training samples'.format(train_size))\n",
    "print('{:>5,} validation samples'.format(val_size))"
   ]
  },
  {
   "cell_type": "markdown",
   "metadata": {},
   "source": [
    "#### Initiate Dataloaders and Batching procedure"
   ]
  },
  {
   "cell_type": "code",
   "execution_count": 53,
   "metadata": {},
   "outputs": [],
   "source": [
    "from torch.utils.data import DataLoader, RandomSampler, SequentialSampler\n",
    "\n",
    "batch_size = 32\n",
    "\n",
    "# Create the DataLoaders for our training and validation sets.\n",
    "train_dataloader = DataLoader(\n",
    "            train_dataset,  \n",
    "            sampler = RandomSampler(train_dataset), # Select batches randomly\n",
    "            batch_size = batch_size \n",
    "        )\n",
    "\n",
    "# Create the DataLoaders for validation sets\n",
    "validation_dataloader = DataLoader(\n",
    "            val_dataset, \n",
    "            sampler = SequentialSampler(val_dataset), # Pull out batches sequentially.\n",
    "            batch_size = batch_size \n",
    "        )"
   ]
  },
  {
   "cell_type": "markdown",
   "metadata": {},
   "source": [
    "#### Set hyperparameters "
   ]
  },
  {
   "cell_type": "code",
   "execution_count": 54,
   "metadata": {},
   "outputs": [],
   "source": [
    "optimizer = AdamW(model.parameters(),\n",
    "                  lr = 2e-5, # args.learning_rate - default is 5e-5, our notebook had 2e-5\n",
    "                  eps = 1e-8 # args.adam_epsilon  - default is 1e-8.\n",
    "                )\n"
   ]
  },
  {
   "cell_type": "code",
   "execution_count": 55,
   "metadata": {},
   "outputs": [],
   "source": [
    "from transformers import get_linear_schedule_with_warmup\n",
    "\n",
    "\n",
    "# After running training procedure for several times with 4 epochs, I saw that there are signs of overfitting\n",
    "epochs = 2\n",
    "\n",
    "# Total number of training steps is [number of batches] x [number of epochs]. \n",
    "# (Note that this is not the same as the number of training samples).\n",
    "total_steps = len(train_dataloader) * epochs\n",
    "\n",
    "# Create the learning rate scheduler.\n",
    "scheduler = get_linear_schedule_with_warmup(optimizer, \n",
    "                                            num_warmup_steps = 0, # Default value in run_glue.py\n",
    "                                            num_training_steps = total_steps)\n"
   ]
  },
  {
   "cell_type": "markdown",
   "metadata": {},
   "source": [
    "#### Helper functions"
   ]
  },
  {
   "cell_type": "code",
   "execution_count": 56,
   "metadata": {},
   "outputs": [],
   "source": [
    "import numpy as np\n",
    "import time\n",
    "import datetime\n",
    "\n",
    "# Function to calculate the accuracy of our predictions vs labels\n",
    "def flat_accuracy(preds, labels):\n",
    "    pred_flat = np.argmax(preds, axis=1).flatten()\n",
    "    labels_flat = labels.flatten()\n",
    "    return np.sum(pred_flat == labels_flat) / len(labels_flat)\n",
    "\n",
    "def format_time(elapsed):\n",
    "    '''\n",
    "    Takes a time in seconds and returns a string hh:mm:ss\n",
    "    '''\n",
    "    # Round to the nearest second.\n",
    "    elapsed_rounded = int(round((elapsed)))\n",
    "    \n",
    "    # Format as hh:mm:ss\n",
    "    return str(datetime.timedelta(seconds=elapsed_rounded))"
   ]
  },
  {
   "cell_type": "markdown",
   "metadata": {},
   "source": [
    "#### Training "
   ]
  },
  {
   "cell_type": "code",
   "execution_count": 57,
   "metadata": {},
   "outputs": [
    {
     "name": "stdout",
     "output_type": "stream",
     "text": [
      "\n",
      "======== Epoch 1 / 2 ========\n",
      "Training...\n",
      "  Batch    40  of  1,446.    Time: 0:00:11.\n",
      "  Batch    80  of  1,446.    Time: 0:00:22.\n",
      "  Batch   120  of  1,446.    Time: 0:00:33.\n",
      "  Batch   160  of  1,446.    Time: 0:00:43.\n",
      "  Batch   200  of  1,446.    Time: 0:00:54.\n",
      "  Batch   240  of  1,446.    Time: 0:01:05.\n",
      "  Batch   280  of  1,446.    Time: 0:01:16.\n",
      "  Batch   320  of  1,446.    Time: 0:01:27.\n",
      "  Batch   360  of  1,446.    Time: 0:01:38.\n",
      "  Batch   400  of  1,446.    Time: 0:01:49.\n",
      "  Batch   440  of  1,446.    Time: 0:02:00.\n",
      "  Batch   480  of  1,446.    Time: 0:02:11.\n",
      "  Batch   520  of  1,446.    Time: 0:02:21.\n",
      "  Batch   560  of  1,446.    Time: 0:02:32.\n",
      "  Batch   600  of  1,446.    Time: 0:02:43.\n",
      "  Batch   640  of  1,446.    Time: 0:02:54.\n",
      "  Batch   680  of  1,446.    Time: 0:03:05.\n",
      "  Batch   720  of  1,446.    Time: 0:03:15.\n",
      "  Batch   760  of  1,446.    Time: 0:03:26.\n",
      "  Batch   800  of  1,446.    Time: 0:03:37.\n",
      "  Batch   840  of  1,446.    Time: 0:03:48.\n",
      "  Batch   880  of  1,446.    Time: 0:03:59.\n",
      "  Batch   920  of  1,446.    Time: 0:04:10.\n",
      "  Batch   960  of  1,446.    Time: 0:04:21.\n",
      "  Batch 1,000  of  1,446.    Time: 0:04:32.\n",
      "  Batch 1,040  of  1,446.    Time: 0:04:42.\n",
      "  Batch 1,080  of  1,446.    Time: 0:04:53.\n",
      "  Batch 1,120  of  1,446.    Time: 0:05:04.\n",
      "  Batch 1,160  of  1,446.    Time: 0:05:15.\n",
      "  Batch 1,200  of  1,446.    Time: 0:05:26.\n",
      "  Batch 1,240  of  1,446.    Time: 0:05:37.\n",
      "  Batch 1,280  of  1,446.    Time: 0:05:47.\n",
      "  Batch 1,320  of  1,446.    Time: 0:05:58.\n",
      "  Batch 1,360  of  1,446.    Time: 0:06:09.\n",
      "  Batch 1,400  of  1,446.    Time: 0:06:20.\n",
      "  Batch 1,440  of  1,446.    Time: 0:06:31.\n",
      "\n",
      "  Average training loss: 0.99\n",
      "  Training epcoh took: 0:06:32\n",
      "\n",
      "Running Validation...\n",
      "  Accuracy: 0.70\n",
      "  Validation Loss: 0.97\n",
      "  Validation took: 0:00:40\n",
      "\n",
      "======== Epoch 2 / 2 ========\n",
      "Training...\n",
      "  Batch    40  of  1,446.    Time: 0:00:11.\n",
      "  Batch    80  of  1,446.    Time: 0:00:22.\n",
      "  Batch   120  of  1,446.    Time: 0:00:33.\n",
      "  Batch   160  of  1,446.    Time: 0:00:44.\n",
      "  Batch   200  of  1,446.    Time: 0:00:54.\n",
      "  Batch   240  of  1,446.    Time: 0:01:05.\n",
      "  Batch   280  of  1,446.    Time: 0:01:16.\n",
      "  Batch   320  of  1,446.    Time: 0:01:27.\n",
      "  Batch   360  of  1,446.    Time: 0:01:37.\n",
      "  Batch   400  of  1,446.    Time: 0:01:48.\n",
      "  Batch   440  of  1,446.    Time: 0:01:59.\n",
      "  Batch   480  of  1,446.    Time: 0:02:10.\n",
      "  Batch   520  of  1,446.    Time: 0:02:20.\n",
      "  Batch   560  of  1,446.    Time: 0:02:31.\n",
      "  Batch   600  of  1,446.    Time: 0:02:42.\n",
      "  Batch   640  of  1,446.    Time: 0:02:53.\n",
      "  Batch   680  of  1,446.    Time: 0:03:03.\n",
      "  Batch   720  of  1,446.    Time: 0:03:14.\n",
      "  Batch   760  of  1,446.    Time: 0:03:25.\n",
      "  Batch   800  of  1,446.    Time: 0:03:36.\n",
      "  Batch   840  of  1,446.    Time: 0:03:46.\n",
      "  Batch   880  of  1,446.    Time: 0:03:57.\n",
      "  Batch   920  of  1,446.    Time: 0:04:08.\n",
      "  Batch   960  of  1,446.    Time: 0:04:19.\n",
      "  Batch 1,000  of  1,446.    Time: 0:04:29.\n",
      "  Batch 1,040  of  1,446.    Time: 0:04:40.\n",
      "  Batch 1,080  of  1,446.    Time: 0:04:51.\n",
      "  Batch 1,120  of  1,446.    Time: 0:05:02.\n",
      "  Batch 1,160  of  1,446.    Time: 0:05:12.\n",
      "  Batch 1,200  of  1,446.    Time: 0:05:23.\n",
      "  Batch 1,240  of  1,446.    Time: 0:05:34.\n",
      "  Batch 1,280  of  1,446.    Time: 0:05:45.\n",
      "  Batch 1,320  of  1,446.    Time: 0:05:55.\n",
      "  Batch 1,360  of  1,446.    Time: 0:06:06.\n",
      "  Batch 1,400  of  1,446.    Time: 0:06:17.\n",
      "  Batch 1,440  of  1,446.    Time: 0:06:28.\n",
      "\n",
      "  Average training loss: 0.92\n",
      "  Training epcoh took: 0:06:29\n",
      "\n",
      "Running Validation...\n",
      "  Accuracy: 0.70\n",
      "  Validation Loss: 0.97\n",
      "  Validation took: 0:00:39\n",
      "\n",
      "Training complete!\n",
      "Total training took 0:14:20 (h:mm:ss)\n"
     ]
    }
   ],
   "source": [
    "import random\n",
    "import numpy as np\n",
    "\n",
    "# Set the seed value all over the place to make this reproducible.\n",
    "seed_val = 42\n",
    "\n",
    "random.seed(seed_val)\n",
    "np.random.seed(seed_val)\n",
    "torch.manual_seed(seed_val)\n",
    "torch.cuda.manual_seed_all(seed_val)\n",
    "\n",
    "# We'll store a number of quantities such as training and validation loss, \n",
    "# validation accuracy, and timings.\n",
    "training_stats = []\n",
    "\n",
    "# Measure the total training time for the whole run.\n",
    "total_t0 = time.time()\n",
    "\n",
    "# For each epoch...\n",
    "for epoch_i in range(0, epochs):\n",
    "\n",
    "    print(\"\")\n",
    "    print('======== Epoch {:} / {:} ========'.format(epoch_i + 1, epochs))\n",
    "    print('Training...')\n",
    "\n",
    "    # Measure how long the training epoch takes.\n",
    "    t0 = time.time()\n",
    "\n",
    "    # Reset the total loss for this epoch.\n",
    "    total_train_loss = 0\n",
    "    # Set model to training mode\n",
    "    model.train()\n",
    "\n",
    "    # For each batch of training data...\n",
    "    for step, batch in enumerate(train_dataloader):\n",
    "\n",
    "        # Progress update every 40 batches.\n",
    "        if step % 40 == 0 and not step == 0:\n",
    "            # Calculate elapsed time in minutes.\n",
    "            elapsed = format_time(time.time() - t0)\n",
    "            \n",
    "            # Report progress.\n",
    "            print('  Batch {:>5,}  of  {:>5,}.    Time: {:}.'.format(step, len(train_dataloader), elapsed))\n",
    "\n",
    "        b_input_ids = batch[0].to(device)\n",
    "        b_input_mask = batch[1].to(device)\n",
    "        b_labels = batch[2].type('torch.LongTensor').to(device)\n",
    "        \n",
    "        model.zero_grad()        \n",
    "\n",
    "        loss, logits = model(b_input_ids, \n",
    "                             token_type_ids=None, \n",
    "                             attention_mask=b_input_mask, \n",
    "                             labels=b_labels)\n",
    "        \n",
    "        \n",
    "        total_train_loss += loss.item()\n",
    "\n",
    "        # Perform a backward pass to calculate the gradients.\n",
    "        loss.backward()\n",
    "        \n",
    "        torch.nn.utils.clip_grad_norm_(model.parameters(), 1.0)\n",
    "\n",
    "        optimizer.step()\n",
    "\n",
    "        scheduler.step()\n",
    "\n",
    "    # Calculate the average loss over all of the batches.\n",
    "    avg_train_loss = total_train_loss / len(train_dataloader)            \n",
    "    \n",
    "    # Measure how long this epoch took.\n",
    "    training_time = format_time(time.time() - t0)\n",
    "\n",
    "    print(\"\")\n",
    "    print(\"  Average training loss: {0:.2f}\".format(avg_train_loss))\n",
    "    print(\"  Training epcoh took: {:}\".format(training_time))\n",
    "        \n",
    "    # ========================================\n",
    "    #               Validation\n",
    "    # ========================================\n",
    "    # After the completion of each training epoch, measure our performance on\n",
    "    # our validation set.\n",
    "\n",
    "    print(\"\")\n",
    "    print(\"Running Validation...\")\n",
    "\n",
    "    t0 = time.time()\n",
    "\n",
    "    # Put the model in evaluation mode--the dropout layers behave differently\n",
    "    # during evaluation.\n",
    "    model.eval()\n",
    "\n",
    "    # Tracking variables \n",
    "    total_eval_accuracy = 0\n",
    "    total_eval_loss = 0\n",
    "    nb_eval_steps = 0\n",
    "\n",
    "    # Evaluate data for one epoch\n",
    "    for batch in validation_dataloader:\n",
    "\n",
    "        b_input_ids = batch[0].to(device)\n",
    "        b_input_mask = batch[1].to(device)\n",
    "        b_labels = batch[2].type('torch.LongTensor').to(device)\n",
    "\n",
    "        with torch.no_grad():        \n",
    "            \n",
    "            (loss, logits) = model(b_input_ids, \n",
    "                                   token_type_ids=None, \n",
    "                                   attention_mask=b_input_mask,\n",
    "                                   labels=b_labels)\n",
    "            \n",
    "        # Accumulate the validation loss.\n",
    "        total_eval_loss += loss.item()\n",
    "\n",
    "        # Move logits and labels to CPU\n",
    "        logits = logits.detach().cpu().numpy()\n",
    "        label_ids = b_labels.to('cpu').numpy()\n",
    "        \n",
    "        # Accumulate current batch accuracy to the total epoch accuracy \n",
    "        total_eval_accuracy += flat_accuracy(logits, label_ids)\n",
    "        \n",
    "\n",
    "    # Report the final accuracy for this validation run.\n",
    "    avg_val_accuracy = total_eval_accuracy / len(validation_dataloader)\n",
    "    print(\"  Accuracy: {0:.2f}\".format(avg_val_accuracy))\n",
    "\n",
    "    # Calculate the average loss over all of the batches.\n",
    "    avg_val_loss = total_eval_loss / len(validation_dataloader)\n",
    "    \n",
    "    # Measure how long the validation run took.\n",
    "    validation_time = format_time(time.time() - t0)\n",
    "    \n",
    "    print(\"  Validation Loss: {0:.2f}\".format(avg_val_loss))\n",
    "    print(\"  Validation took: {:}\".format(validation_time))\n",
    "\n",
    "    # Record all statistics from this epoch.\n",
    "    training_stats.append(\n",
    "        {\n",
    "            'epoch': epoch_i + 1,\n",
    "            'Training Loss': avg_train_loss,\n",
    "            'Valid. Loss': avg_val_loss,\n",
    "            'Valid. Accur.': avg_val_accuracy,\n",
    "            'Training Time': training_time,\n",
    "            'Validation Time': validation_time\n",
    "        }\n",
    "    )\n",
    "\n",
    "print(\"\")\n",
    "print(\"Training complete!\")\n",
    "\n",
    "print(\"Total training took {:} (h:mm:ss)\".format(format_time(time.time()-total_t0)))"
   ]
  },
  {
   "cell_type": "code",
   "execution_count": 58,
   "metadata": {},
   "outputs": [
    {
     "data": {
      "text/html": [
       "<div>\n",
       "<style scoped>\n",
       "    .dataframe tbody tr th:only-of-type {\n",
       "        vertical-align: middle;\n",
       "    }\n",
       "\n",
       "    .dataframe tbody tr th {\n",
       "        vertical-align: top;\n",
       "    }\n",
       "\n",
       "    .dataframe thead th {\n",
       "        text-align: right;\n",
       "    }\n",
       "</style>\n",
       "<table border=\"1\" class=\"dataframe\">\n",
       "  <thead>\n",
       "    <tr style=\"text-align: right;\">\n",
       "      <th></th>\n",
       "      <th>Training Loss</th>\n",
       "      <th>Valid. Loss</th>\n",
       "      <th>Valid. Accur.</th>\n",
       "      <th>Training Time</th>\n",
       "      <th>Validation Time</th>\n",
       "    </tr>\n",
       "    <tr>\n",
       "      <th>epoch</th>\n",
       "      <th></th>\n",
       "      <th></th>\n",
       "      <th></th>\n",
       "      <th></th>\n",
       "      <th></th>\n",
       "    </tr>\n",
       "  </thead>\n",
       "  <tbody>\n",
       "    <tr>\n",
       "      <th>1</th>\n",
       "      <td>0.99</td>\n",
       "      <td>0.97</td>\n",
       "      <td>0.7</td>\n",
       "      <td>0:06:32</td>\n",
       "      <td>0:00:40</td>\n",
       "    </tr>\n",
       "    <tr>\n",
       "      <th>2</th>\n",
       "      <td>0.92</td>\n",
       "      <td>0.97</td>\n",
       "      <td>0.7</td>\n",
       "      <td>0:06:29</td>\n",
       "      <td>0:00:39</td>\n",
       "    </tr>\n",
       "  </tbody>\n",
       "</table>\n",
       "</div>"
      ],
      "text/plain": [
       "       Training Loss  Valid. Loss  Valid. Accur. Training Time Validation Time\n",
       "epoch                                                                         \n",
       "1               0.99         0.97            0.7       0:06:32         0:00:40\n",
       "2               0.92         0.97            0.7       0:06:29         0:00:39"
      ]
     },
     "execution_count": 58,
     "metadata": {},
     "output_type": "execute_result"
    }
   ],
   "source": [
    "import pandas as pd\n",
    "\n",
    "# Display floats with two decimal places.\n",
    "pd.set_option('precision', 2)\n",
    "\n",
    "# Create a DataFrame from our training statistics.\n",
    "stats = pd.DataFrame(data=training_stats).set_index('epoch')\n",
    "stats"
   ]
  },
  {
   "cell_type": "code",
   "execution_count": 59,
   "metadata": {},
   "outputs": [
    {
     "data": {
      "image/png": "[encoded data removed]",
      "text/plain": [
       "<Figure size 432x288 with 1 Axes>"
      ]
     },
     "metadata": {
      "needs_background": "light"
     },
     "output_type": "display_data"
    }
   ],
   "source": [
    "# Plot the learning curve.\n",
    "plt.plot(stats['Training Loss'], 'b-o', label=\"Training\")\n",
    "plt.plot(stats['Valid. Loss'], 'g-o', label=\"Validation\")\n",
    "\n",
    "# Label the plot.\n",
    "plt.title(\"Training & Validation Loss\")\n",
    "plt.xlabel(\"Epoch\")\n",
    "plt.ylabel(\"Loss\")\n",
    "plt.legend()\n",
    "plt.xticks([1, 2])\n",
    "\n",
    "plt.show()"
   ]
  },
  {
   "cell_type": "markdown",
   "metadata": {},
   "source": [
    "Initially, I have also tried 4 epochs, however already on the third one there were signs of overfitting (after second epoch validation loss starts to grow and accuracy to fall). In general, authors of the model recommend to set number of epochs between 2 and 4."
   ]
  },
  {
   "cell_type": "markdown",
   "metadata": {},
   "source": [
    "##### Evaluate on test set "
   ]
  },
  {
   "cell_type": "code",
   "execution_count": 60,
   "metadata": {},
   "outputs": [],
   "source": [
    "prediction_data = val_dataset\n",
    "prediction_sampler = SequentialSampler(prediction_data)\n",
    "prediction_dataloader = DataLoader(prediction_data, sampler=prediction_sampler, batch_size=batch_size)\n",
    "\n",
    "# Put model in evaluation mode\n",
    "model.eval()\n",
    "\n",
    "# Tracking variables \n",
    "predictions , true_labels = [], []\n",
    "\n",
    "# Predict \n",
    "for batch in prediction_dataloader:\n",
    "    # Add batch to GPU\n",
    "    batch = tuple(t.to(device) for t in batch)\n",
    "\n",
    "    # Unpack the inputs from our dataloader\n",
    "    b_input_ids, b_input_mask, b_labels = batch\n",
    "\n",
    "    # Telling the model not to compute or store gradients, saving memory and \n",
    "    # speeding up prediction\n",
    "    with torch.no_grad():\n",
    "      # Forward pass, calculate logit predictions\n",
    "      outputs = model(b_input_ids, token_type_ids=None, \n",
    "                      attention_mask=b_input_mask)\n",
    "\n",
    "    logits = outputs[0]\n",
    "\n",
    "    # Move logits and labels to CPU\n",
    "    logits = logits.detach().cpu().numpy()\n",
    "    label_ids = b_labels.to('cpu').numpy()\n",
    "\n",
    "    # Store predictions and true labels\n",
    "    predictions.append(logits)\n",
    "    true_labels.append(label_ids)\n"
   ]
  },
  {
   "cell_type": "code",
   "execution_count": 61,
   "metadata": {},
   "outputs": [
    {
     "name": "stdout",
     "output_type": "stream",
     "text": [
      "\n",
      "Clasification report:\n",
      "               precision    recall  f1-score   support\n",
      "\n",
      "           0       0.71      0.99      0.83     13877\n",
      "           1       0.00      0.00      0.00      2060\n",
      "           2       0.00      0.00      0.00      1574\n",
      "           3       0.20      0.07      0.10      1287\n",
      "           4       0.40      0.03      0.06      1029\n",
      "\n",
      "    accuracy                           0.70     19827\n",
      "   macro avg       0.26      0.22      0.20     19827\n",
      "weighted avg       0.53      0.70      0.59     19827\n",
      "\n"
     ]
    },
    {
     "name": "stderr",
     "output_type": "stream",
     "text": [
      "c:\\program files\\python38\\lib\\site-packages\\sklearn\\metrics\\_classification.py:1221: UndefinedMetricWarning: Precision and F-score are ill-defined and being set to 0.0 in labels with no predicted samples. Use `zero_division` parameter to control this behavior.\n",
      "  _warn_prf(average, modifier, msg_start, len(result))\n"
     ]
    }
   ],
   "source": [
    "from sklearn.metrics import classification_report\n",
    "\n",
    "# Combine the results across all batches. \n",
    "flat_predictions = np.concatenate(predictions, axis=0)\n",
    "\n",
    "# For each sample, pick the label (0 or 1) with the higher score.\n",
    "flat_predictions = np.argmax(flat_predictions, axis=1).flatten()\n",
    "\n",
    "# Combine the correct labels for each batch into a single list.\n",
    "flat_true_labels = np.concatenate(true_labels, axis=0)\n",
    "\n",
    "target_names = [\"0\",\"1\",\"2\",\"3\",\"4\"]\n",
    "print ('\\nClasification report:\\n', classification_report(flat_true_labels, flat_predictions, target_names=target_names))"
   ]
  },
  {
   "cell_type": "markdown",
   "metadata": {},
   "source": [
    "As we can see, the dataset is imbalanced. Therefore declaired accuracy is exagerrated. In order to get more insights, we visually compare distribution of preditions and true labels among groups."
   ]
  },
  {
   "cell_type": "code",
   "execution_count": 63,
   "metadata": {},
   "outputs": [
    {
     "data": {
      "image/png": "[encoded data removed]",
      "text/plain": [
       "<Figure size 432x288 with 1 Axes>"
      ]
     },
     "metadata": {
      "needs_background": "light"
     },
     "output_type": "display_data"
    }
   ],
   "source": [
    "df = pd.DataFrame(zip(flat_true_labels, flat_predictions), columns = ['True_Label', 'Predicted'])\n",
    "pred = df.Predicted.value_counts()\n",
    "true = df.True_Label.value_counts()\n",
    "\n",
    "# Plot the distribution\n",
    "plt.bar(true.index, true, alpha=0.5, label='True') #\n",
    "plt.bar(pred.index, pred, alpha=0.5, label='Predicted') #\n",
    "plt.legend(loc='upper right')\n",
    "plt.show()"
   ]
  },
  {
   "cell_type": "markdown",
   "metadata": {},
   "source": [
    "#### Create a column in train dataset with predicted Header class"
   ]
  },
  {
   "cell_type": "markdown",
   "metadata": {},
   "source": [
    "in order to use model results in further analysis we apply the model to the whole dataset another time and save predicted class to the separate column."
   ]
  },
  {
   "cell_type": "code",
   "execution_count": 64,
   "metadata": {},
   "outputs": [],
   "source": [
    "prediction_data = dataset\n",
    "\n",
    "prediction_sampler = SequentialSampler(prediction_data)\n",
    "prediction_dataloader = DataLoader(prediction_data, sampler=prediction_sampler, batch_size=batch_size)\n",
    "\n",
    "# Put model in evaluation mode\n",
    "model.eval()\n",
    "\n",
    "# Tracking variables \n",
    "predictions , true_labels = [], []\n",
    "\n",
    "# Predict \n",
    "for batch in prediction_dataloader:\n",
    "    # Add batch to GPU\n",
    "    batch = tuple(t.to(device) for t in batch)\n",
    "\n",
    "    # Unpack the inputs from our dataloader\n",
    "    b_input_ids, b_input_mask, b_labels = batch\n",
    "  \n",
    "    # Telling the model not to compute or store gradients, saving memory and \n",
    "    # speeding up prediction\n",
    "    with torch.no_grad():\n",
    "        # Forward pass, calculate logit predictions\n",
    "        outputs = model(b_input_ids, token_type_ids=None, \n",
    "                          attention_mask=b_input_mask)\n",
    "\n",
    "    logits = outputs[0]\n",
    "\n",
    "    # Move logits and labels to CPU\n",
    "    logits = logits.detach().cpu().numpy()\n",
    "    label_ids = b_labels.to('cpu').numpy()\n",
    "\n",
    "    # Store predictions and true labels\n",
    "    predictions.append(logits)\n",
    "    true_labels.append(label_ids)"
   ]
  },
  {
   "cell_type": "code",
   "execution_count": 65,
   "metadata": {},
   "outputs": [],
   "source": [
    "# Combine the results across all batches. \n",
    "flat_predictions = np.concatenate(predictions, axis=0)\n",
    "\n",
    "# For each sample, pick the label (0 or 1) with the higher score.\n",
    "flat_predictions = np.argmax(flat_predictions, axis=1).flatten()\n",
    "\n",
    "train['Header_class'] = flat_predictions"
   ]
  },
  {
   "cell_type": "markdown",
   "metadata": {},
   "source": [
    "##### Apply fine-tuned model to the test dataset"
   ]
  },
  {
   "cell_type": "code",
   "execution_count": 66,
   "metadata": {},
   "outputs": [
    {
     "name": "stderr",
     "output_type": "stream",
     "text": [
      "  0%|                                                                                                   | 0/511 [00:00<?, ?it/s]c:\\users\\msdesktop\\transformers\\src\\transformers\\tokenization_utils_base.py:1764: FutureWarning: The `pad_to_max_length` argument is deprecated and will be removed in a future version, use `padding=True` or `padding='longest'` to pad to the longest sequence in the batch, or use `padding='max_length'` to pad to a max length. In this case, you can give a specific length with `max_length` (e.g. `max_length=45`) or leave max_length to None to pad to the maximal input size of the model (e.g. 512 for Bert).\n",
      "  warnings.warn(\n",
      "100%|███████████████████████████████████████████████████████████████████████████████████████| 511/511 [00:00<00:00, 5314.64it/s]\n"
     ]
    }
   ],
   "source": [
    "# Create sentence and label lists\n",
    "sentences = [str(i) for i in test.Header.values]\n",
    "\n",
    "# Tokenize all of the sentences and map the tokens to thier word IDs.\n",
    "input_ids = []\n",
    "attention_masks = []\n",
    "\n",
    "# tokenize sentences\n",
    "for sent in tqdm(sentences):\n",
    "    encoded_dict = tokenizer.encode_plus(\n",
    "                        sent,                      # Sentence to encode.\n",
    "                        add_special_tokens = True, # Add '[CLS]' and '[SEP]'\n",
    "                        max_length = 40,           # Pad & truncate all sentences.\n",
    "                        truncation = True, \n",
    "                        pad_to_max_length = True,\n",
    "                        return_attention_mask = True,   # Construct attn. masks.\n",
    "                        return_tensors = 'pt',     # Return pytorch tensors.\n",
    "                   )\n",
    "\n",
    "    input_ids.append(encoded_dict['input_ids'])\n",
    "    attention_masks.append(encoded_dict['attention_mask'])\n",
    "\n",
    "# Convert the lists into tensors.\n",
    "input_ids = torch.cat(input_ids, dim=0)\n",
    "attention_masks = torch.cat(attention_masks, dim=0)\n",
    "\n",
    "# Set the batch size.  \n",
    "batch_size = 32  \n",
    "\n",
    "# Create the DataLoader.\n",
    "prediction_data = TensorDataset(input_ids, attention_masks)\n",
    "prediction_sampler = SequentialSampler(prediction_data)\n",
    "prediction_dataloader = DataLoader(prediction_data, sampler=prediction_sampler, batch_size=batch_size)\n",
    "\n",
    "# Put model in evaluation mode\n",
    "model.eval()\n",
    "\n",
    "# Tracking variables \n",
    "predictions = []\n",
    "\n",
    "# Predict \n",
    "for batch in prediction_dataloader:\n",
    "    # Add batch to GPU\n",
    "    batch = tuple(t.to(device) for t in batch)\n",
    "\n",
    "    # Unpack the inputs from our dataloader\n",
    "    b_input_ids, b_input_mask = batch\n",
    "\n",
    "    # Telling the model not to compute or store gradients, saving memory and \n",
    "    # speeding up prediction\n",
    "    with torch.no_grad():\n",
    "      # Forward pass, calculate logit predictions\n",
    "      outputs = model(b_input_ids, token_type_ids=None, \n",
    "                      attention_mask=b_input_mask)\n",
    "\n",
    "    logits = outputs[0]\n",
    "\n",
    "    # Move logits and labels to CPU\n",
    "    logits = logits.detach().cpu().numpy()\n",
    "\n",
    "    # Store predictions and true labels\n",
    "    predictions.append(logits)\n",
    "\n",
    "# Combine the results across all batches. \n",
    "flat_predictions = np.concatenate(predictions, axis=0)\n",
    "\n",
    "# For each sample, pick the label (0 or 1) with the higher score.\n",
    "flat_predictions = np.argmax(flat_predictions, axis=1).flatten()"
   ]
  },
  {
   "cell_type": "code",
   "execution_count": 67,
   "metadata": {},
   "outputs": [],
   "source": [
    "test['Header_class'] = flat_predictions"
   ]
  },
  {
   "cell_type": "markdown",
   "metadata": {},
   "source": [
    "## 5. Check dependence of claps to different variables\n",
    "\n",
    "### 5.1 Responces"
   ]
  },
  {
   "cell_type": "code",
   "execution_count": 68,
   "metadata": {},
   "outputs": [
    {
     "data": {
      "image/png": "[encoded data removed]",
      "text/plain": [
       "<Figure size 432x288 with 1 Axes>"
      ]
     },
     "metadata": {
      "needs_background": "light"
     },
     "output_type": "display_data"
    }
   ],
   "source": [
    "plt.scatter(train['Responces'], train['Claps'])\n",
    "plt.show()"
   ]
  },
  {
   "cell_type": "code",
   "execution_count": 69,
   "metadata": {},
   "outputs": [
    {
     "data": {
      "image/png": "[encoded data removed]",
      "text/plain": [
       "<Figure size 432x288 with 1 Axes>"
      ]
     },
     "metadata": {
      "needs_background": "light"
     },
     "output_type": "display_data"
    }
   ],
   "source": [
    "filtered = train[train['Responces']< 80]\n",
    "plt.scatter(filtered['Responces'], filtered['Claps'])\n",
    "plt.show()"
   ]
  },
  {
   "cell_type": "markdown",
   "metadata": {},
   "source": [
    "### 5.2 Number of Articles per Author "
   ]
  },
  {
   "cell_type": "code",
   "execution_count": 70,
   "metadata": {},
   "outputs": [
    {
     "data": {
      "image/png": "[encoded data removed]",
      "text/plain": [
       "<Figure size 432x288 with 1 Axes>"
      ]
     },
     "metadata": {
      "needs_background": "light"
     },
     "output_type": "display_data"
    }
   ],
   "source": [
    "plt.scatter(train['author_freq'], train['Claps'])\n",
    "plt.show()"
   ]
  },
  {
   "cell_type": "markdown",
   "metadata": {},
   "source": [
    "From plot we can notice that too many articles is not a good sign either. However, lets delete outliers and look at the graph ones again"
   ]
  },
  {
   "cell_type": "markdown",
   "metadata": {},
   "source": [
    "### 5.3 Number of Images in the Article "
   ]
  },
  {
   "cell_type": "code",
   "execution_count": 71,
   "metadata": {},
   "outputs": [
    {
     "data": {
      "image/png": "[encoded data removed]",
      "text/plain": [
       "<Figure size 432x288 with 1 Axes>"
      ]
     },
     "metadata": {
      "needs_background": "light"
     },
     "output_type": "display_data"
    }
   ],
   "source": [
    "plt.scatter(train['imageCount'], train['Claps'])\n",
    "plt.show()"
   ]
  },
  {
   "cell_type": "markdown",
   "metadata": {},
   "source": [
    "### 5.4 Modelled Header Category "
   ]
  },
  {
   "cell_type": "code",
   "execution_count": 72,
   "metadata": {},
   "outputs": [
    {
     "data": {
      "text/plain": [
       "Header_class\n",
       "0     95.09\n",
       "3    423.72\n",
       "4    674.47\n",
       "Name: Claps, dtype: float64"
      ]
     },
     "execution_count": 72,
     "metadata": {},
     "output_type": "execute_result"
    }
   ],
   "source": [
    "# calculate average number of claps from header category\n",
    "avg = train.groupby('Header_class')['Claps'].mean()\n",
    "avg"
   ]
  },
  {
   "cell_type": "code",
   "execution_count": 73,
   "metadata": {},
   "outputs": [
    {
     "data": {
      "image/png": "[encoded data removed]",
      "text/plain": [
       "<Figure size 432x288 with 1 Axes>"
      ]
     },
     "metadata": {
      "needs_background": "light"
     },
     "output_type": "display_data"
    }
   ],
   "source": [
    "plt.bar(avg.index, height = avg)\n",
    "plt.plot(avg.index, avg, color = \"r\", marker='o')\n",
    "\n",
    "plt.show()"
   ]
  },
  {
   "cell_type": "markdown",
   "metadata": {},
   "source": [
    "As we can see from the graph the average number of claps per predicted categorz adequately reflects the interval. However, there are no predictions for intervals (50, 100] and (100, 200]. This can be solved by grouping those categories together or retraining the model with different groupings. As group labels are ordinal numbers, we do not perform any further transformations on this variable."
   ]
  },
  {
   "cell_type": "markdown",
   "metadata": {},
   "source": [
    "In the previous experiments I have also tried to split data into mode categories, but the clap rate was not monotonously raising. Therefore, I have combined categories [0,20] and (20, 50] into one and retrained the model. "
   ]
  },
  {
   "cell_type": "markdown",
   "metadata": {},
   "source": [
    "### 5.5 Claps vs. number of Entities in Text "
   ]
  },
  {
   "cell_type": "code",
   "execution_count": 75,
   "metadata": {},
   "outputs": [
    {
     "data": {
      "image/png": "[encoded data removed]",
      "text/plain": [
       "<Figure size 1440x720 with 8 Axes>"
      ]
     },
     "metadata": {
      "needs_background": "light"
     },
     "output_type": "display_data"
    }
   ],
   "source": [
    "fig, ax = plt.subplots(3, 3, figsize=(20,10))\n",
    "\n",
    "# PER\n",
    "ax[0, 0].scatter(train['PER'], train['Claps'])\n",
    "ax[1, 0].scatter(train['GPE'], train['Claps'])\n",
    "ax[2, 0].scatter(train['MONEY'], train['Claps'])\n",
    "ax[0, 1].scatter(train['ORG'], train['Claps'])\n",
    "ax[1, 1].scatter(train['LANGUAGE'], train['Claps'])\n",
    "ax[2, 1].scatter(train['QUANTITY'], train['Claps'])\n",
    "ax[0, 2].scatter(train['PERCENT'], train['Claps'])\n",
    "ax[1, 2].scatter(train['NORP'], train['Claps'])\n",
    "\n",
    "\n",
    "fig.text(0.08, 0.5, 'Number of Claps', va='center', rotation='vertical')\n",
    "\n",
    "ax[0, 0].set(xlabel=\"PER\")\n",
    "ax[1, 0].set(xlabel=\"GPE\")\n",
    "ax[2, 0].set(xlabel=\"MONEY\")\n",
    "ax[0, 1].set(xlabel=\"ORG\")\n",
    "ax[1, 1].set(xlabel=\"LANGUAGE\")\n",
    "ax[2, 1].set(xlabel=\"QUANTITY\")\n",
    "ax[0, 2].set(xlabel=\"PERCENT\")\n",
    "ax[1, 2].set(xlabel=\"NORP\")\n",
    "\n",
    "fig.delaxes(ax[2, 2])\n",
    "plt.show()"
   ]
  },
  {
   "cell_type": "markdown",
   "metadata": {},
   "source": [
    "As can be seen from the graph above, for all entities there is a tendency of having less claps if more Named Entities are mentioned in the text. "
   ]
  },
  {
   "cell_type": "markdown",
   "metadata": {},
   "source": [
    "## 7. Modelling Claps"
   ]
  },
  {
   "cell_type": "markdown",
   "metadata": {},
   "source": [
    "### 7.0. Train - test split"
   ]
  },
  {
   "cell_type": "code",
   "execution_count": 77,
   "metadata": {},
   "outputs": [
    {
     "name": "stdout",
     "output_type": "stream",
     "text": [
      "Training sample contains: 46261 samples and 20 variables\n",
      "Test sample contains: 19827 samples and 20 variables\n"
     ]
    }
   ],
   "source": [
    "from sklearn.model_selection import train_test_split\n",
    "\n",
    "X = train.drop('Claps', axis = 1)\n",
    "y = train['Claps']\n",
    "\n",
    "X_train, X_test, y_train, y_test = train_test_split(X, y, test_size = 0.3)\n",
    "print('Training sample contains: {} samples and {} variables'.format(X_train.shape[0], X_train.shape[1]))\n",
    "print('Test sample contains: {} samples and {} variables'.format(X_test.shape[0], X_test.shape[1]))"
   ]
  },
  {
   "cell_type": "code",
   "execution_count": 78,
   "metadata": {},
   "outputs": [
    {
     "name": "stdout",
     "output_type": "stream",
     "text": [
      "(46261, 13) (19827, 13)\n",
      "(46261,) (19827,)\n"
     ]
    }
   ],
   "source": [
    "#leave just the columns that enter the model\n",
    "X_train = X_train.drop(['Header', 'Text', 'Author', 'Language', 'Domain', 'Date'], axis = 1)\n",
    "X_test = X_test.drop(['Header', 'Text', 'Author', 'Language', 'Domain', 'Date'], axis = 1)\n",
    "\n",
    "print(X_train.shape, X_test.shape)\n",
    "print(y_train.shape, y_test.shape)"
   ]
  },
  {
   "cell_type": "markdown",
   "metadata": {},
   "source": [
    "### 7.1. Build neural network for regression"
   ]
  },
  {
   "cell_type": "code",
   "execution_count": 79,
   "metadata": {},
   "outputs": [],
   "source": [
    "from tensorflow.keras.models import Sequential\n",
    "from tensorflow.keras.layers import BatchNormalization\n",
    "from tensorflow.keras.layers import Conv2D\n",
    "from tensorflow.keras.layers import MaxPooling2D\n",
    "from tensorflow.keras.layers import Activation\n",
    "from tensorflow.keras.layers import Dropout\n",
    "from tensorflow.keras.layers import Dense\n",
    "from tensorflow.keras.layers import Flatten\n",
    "from tensorflow.keras.layers import Input\n",
    "from tensorflow.keras.models import Model\n",
    "\n",
    "\n",
    "from tensorflow.keras.optimizers import Adam\n",
    "from sklearn.model_selection import train_test_split\n",
    "import numpy as np\n",
    "import argparse\n",
    "import locale\n",
    "import os"
   ]
  },
  {
   "cell_type": "code",
   "execution_count": 80,
   "metadata": {},
   "outputs": [],
   "source": [
    "def create_mlp(dim, regress=True):\n",
    "    # define our MLP network\n",
    "    model = Sequential()\n",
    "    \n",
    "    # add a hidden layer\n",
    "    model.add(Dense(8, input_dim=dim, activation=\"relu\"))\n",
    "    model.add(Dense(4, activation=\"relu\"))\n",
    "    \n",
    "    # add the regression node\n",
    "    model.add(Dense(1, activation=\"linear\"))\n",
    "    \n",
    "    return model"
   ]
  },
  {
   "cell_type": "code",
   "execution_count": 81,
   "metadata": {},
   "outputs": [
    {
     "name": "stdout",
     "output_type": "stream",
     "text": [
      "Model: \"sequential\"\n",
      "_________________________________________________________________\n",
      "Layer (type)                 Output Shape              Param #   \n",
      "=================================================================\n",
      "dense (Dense)                (None, 8)                 112       \n",
      "_________________________________________________________________\n",
      "dense_1 (Dense)              (None, 4)                 36        \n",
      "_________________________________________________________________\n",
      "dense_2 (Dense)              (None, 1)                 5         \n",
      "=================================================================\n",
      "Total params: 153\n",
      "Trainable params: 153\n",
      "Non-trainable params: 0\n",
      "_________________________________________________________________\n",
      "[INFO] training model...\n",
      "Epoch 1/40\n",
      "2892/2892 [==============================] - 4s 2ms/step - loss: 108553.9531 - val_loss: 62961.4688\n",
      "Epoch 2/40\n",
      "2892/2892 [==============================] - 4s 2ms/step - loss: 85847.5312 - val_loss: 58124.8906\n",
      "Epoch 3/40\n",
      "2892/2892 [==============================] - 4s 2ms/step - loss: 72515.4141 - val_loss: 73182.8984\n",
      "Epoch 4/40\n",
      "2892/2892 [==============================] - 4s 1ms/step - loss: 69579.3828 - val_loss: 87251.4609\n",
      "Epoch 5/40\n",
      "2892/2892 [==============================] - 4s 2ms/step - loss: 68853.3203 - val_loss: 61788.0586\n",
      "Epoch 6/40\n",
      "2892/2892 [==============================] - 4s 2ms/step - loss: 68678.8359 - val_loss: 59958.2227\n",
      "Epoch 7/40\n",
      "2892/2892 [==============================] - 4s 2ms/step - loss: 66729.1719 - val_loss: 65741.8750\n",
      "Epoch 8/40\n",
      "2892/2892 [==============================] - 4s 2ms/step - loss: 67253.0234 - val_loss: 56264.0938\n",
      "Epoch 9/40\n",
      "2892/2892 [==============================] - 4s 2ms/step - loss: 64749.6836 - val_loss: 57254.3750\n",
      "Epoch 10/40\n",
      "2892/2892 [==============================] - 4s 2ms/step - loss: 64666.2266 - val_loss: 57316.9258\n",
      "Epoch 11/40\n",
      "2892/2892 [==============================] - 4s 2ms/step - loss: 65485.8242 - val_loss: 55761.0273\n",
      "Epoch 12/40\n",
      "2892/2892 [==============================] - 4s 2ms/step - loss: 63949.7461 - val_loss: 55532.0820\n",
      "Epoch 13/40\n",
      "2892/2892 [==============================] - 4s 2ms/step - loss: 64343.3789 - val_loss: 55254.1484\n",
      "Epoch 14/40\n",
      "2892/2892 [==============================] - 4s 2ms/step - loss: 63993.5742 - val_loss: 55718.5430\n",
      "Epoch 15/40\n",
      "2892/2892 [==============================] - 4s 2ms/step - loss: 63637.7852 - val_loss: 55907.3633\n",
      "Epoch 16/40\n",
      "2892/2892 [==============================] - 4s 2ms/step - loss: 63573.2109 - val_loss: 55318.6133\n",
      "Epoch 17/40\n",
      "2892/2892 [==============================] - 4s 2ms/step - loss: 62974.6562 - val_loss: 64321.8320\n",
      "Epoch 18/40\n",
      "2892/2892 [==============================] - 4s 2ms/step - loss: 63471.7852 - val_loss: 58819.6445\n",
      "Epoch 19/40\n",
      "2892/2892 [==============================] - 5s 2ms/step - loss: 62729.4688 - val_loss: 56352.9375\n",
      "Epoch 20/40\n",
      "2892/2892 [==============================] - 4s 2ms/step - loss: 62559.8281 - val_loss: 56595.6016\n",
      "Epoch 21/40\n",
      "2892/2892 [==============================] - 4s 2ms/step - loss: 62822.3867 - val_loss: 54824.3359\n",
      "Epoch 22/40\n",
      "2892/2892 [==============================] - 4s 2ms/step - loss: 62503.1797 - val_loss: 55422.8711\n",
      "Epoch 23/40\n",
      "2892/2892 [==============================] - 4s 2ms/step - loss: 62350.2422 - val_loss: 55188.1289\n",
      "Epoch 24/40\n",
      "2892/2892 [==============================] - 4s 2ms/step - loss: 62512.0430 - val_loss: 54534.8633\n",
      "Epoch 25/40\n",
      "2892/2892 [==============================] - 4s 2ms/step - loss: 62028.6055 - val_loss: 55352.3320\n",
      "Epoch 26/40\n",
      "2892/2892 [==============================] - 5s 2ms/step - loss: 62425.7617 - val_loss: 54410.2969\n",
      "Epoch 27/40\n",
      "2892/2892 [==============================] - 4s 2ms/step - loss: 62237.3398 - val_loss: 54909.9258\n",
      "Epoch 28/40\n",
      "2892/2892 [==============================] - 4s 2ms/step - loss: 61800.1797 - val_loss: 54775.8516\n",
      "Epoch 29/40\n",
      "2892/2892 [==============================] - 4s 2ms/step - loss: 62185.8086 - val_loss: 54524.3711\n",
      "Epoch 30/40\n",
      "2892/2892 [==============================] - 4s 2ms/step - loss: 61924.2031 - val_loss: 55114.4102\n",
      "Epoch 31/40\n",
      "2892/2892 [==============================] - 4s 2ms/step - loss: 61782.6172 - val_loss: 54744.1797\n",
      "Epoch 32/40\n",
      "2892/2892 [==============================] - 4s 2ms/step - loss: 61921.3633 - val_loss: 54326.8281\n",
      "Epoch 33/40\n",
      "2892/2892 [==============================] - 4s 2ms/step - loss: 61701.4844 - val_loss: 55071.2070\n",
      "Epoch 34/40\n",
      "2892/2892 [==============================] - 4s 2ms/step - loss: 61585.9102 - val_loss: 57656.7930\n",
      "Epoch 35/40\n",
      "2892/2892 [==============================] - 4s 2ms/step - loss: 61474.2969 - val_loss: 58928.0430\n",
      "Epoch 36/40\n",
      "2892/2892 [==============================] - 4s 2ms/step - loss: 61657.2188 - val_loss: 54492.8555\n",
      "Epoch 37/40\n",
      "2892/2892 [==============================] - 4s 2ms/step - loss: 61594.7930 - val_loss: 54593.2227\n",
      "Epoch 38/40\n",
      "2892/2892 [==============================] - 4s 2ms/step - loss: 61493.3750 - val_loss: 55359.0156\n",
      "Epoch 39/40\n",
      "2892/2892 [==============================] - 4s 2ms/step - loss: 61446.8359 - val_loss: 54467.2578\n",
      "Epoch 40/40\n",
      "2892/2892 [==============================] - 4s 2ms/step - loss: 61250.3828 - val_loss: 54050.0000\n",
      "Test loss: 54049.9765625\n"
     ]
    }
   ],
   "source": [
    "# training setting\n",
    "model = create_mlp(X_train.shape[1], regress=True)\n",
    "opt = Adam(lr=1e-2, decay=1e-3 / 20)\n",
    "model.compile(loss=\"mean_squared_error\", optimizer=opt)\n",
    "model.summary()\n",
    "\n",
    "# train the model\n",
    "print(\"[INFO] training model...\")\n",
    "model.fit(x=X_train, y=y_train, validation_data=(X_test, y_test), epochs=40, batch_size=16)\n",
    "\n",
    "score = model.evaluate(X_test, y_test, verbose=0)\n",
    "print('Test loss:', score)"
   ]
  },
  {
   "cell_type": "markdown",
   "metadata": {},
   "source": [
    "### 7.2. Create a Random Forest Classifier as a benchmark for loss"
   ]
  },
  {
   "cell_type": "code",
   "execution_count": 89,
   "metadata": {},
   "outputs": [
    {
     "name": "stdout",
     "output_type": "stream",
     "text": [
      "MSE of Linear Regression on the Validation Set (30%):  122928.91\n"
     ]
    }
   ],
   "source": [
    "from sklearn.ensemble import RandomForestClassifier\n",
    "from sklearn.metrics import mean_squared_error\n",
    "\n",
    "clf = RandomForestClassifier(max_depth=6, random_state=0)\n",
    "clf.fit(X_train, y_train)\n",
    "\n",
    "pred = clf.predict(X_test)\n",
    "\n",
    "print(\"MSE of Linear Regression on the Validation Set (30%): \", round(mean_squared_error(y_test, pred), 2))"
   ]
  },
  {
   "cell_type": "markdown",
   "metadata": {},
   "source": [
    "### 7.3. Try out linear regression as a benchmark for loss "
   ]
  },
  {
   "cell_type": "code",
   "execution_count": 84,
   "metadata": {},
   "outputs": [
    {
     "name": "stdout",
     "output_type": "stream",
     "text": [
      "MSE of Linear Regression on the Validation Set (30%):  81783.2\n"
     ]
    }
   ],
   "source": [
    "# Linear Regression\n",
    "from sklearn.linear_model import LinearRegression\n",
    "from sklearn.metrics import mean_squared_error\n",
    "\n",
    "reg = LinearRegression()\n",
    "reg.fit(X_train, y_train)\n",
    "pred = reg.predict(X_test)\n",
    "\n",
    "print(\"MSE of Linear Regression on the Validation Set (30%): \", round(mean_squared_error(y_test, pred), 2))"
   ]
  },
  {
   "cell_type": "markdown",
   "metadata": {},
   "source": [
    "## 8. Evaluation of results with best model "
   ]
  },
  {
   "cell_type": "code",
   "execution_count": 133,
   "metadata": {},
   "outputs": [],
   "source": [
    "tst = test.drop(['Header', 'Text', 'Author', 'Language', 'Domain', 'Date', \"PublicationDetails\", \"index\"], axis = 1)\n",
    "index = test['index']\n",
    "tst['Responses'] = tst.Responses.str.extract('(\\d+)').astype(float)"
   ]
  },
  {
   "cell_type": "code",
   "execution_count": 144,
   "metadata": {},
   "outputs": [],
   "source": [
    "# 1. predict number of Claps with MLP for english articles\n",
    "pred = model.predict(tst)\n",
    "test_eng_pred = pd.DataFrame(zip(index, pred), columns = ['index', 'Claps'])\n",
    "# 2. predict with average value for non-English articles\n",
    "idx_ne = test_ne['index']\n",
    "len_ne = len(idx_ne)\n",
    "pred_ne = [tr_ne.Claps.median()]*len_ne\n",
    "\n",
    "test_ne_pred = pd.DataFrame(zip(idx_ne, pred_ne), columns = ['index', 'Claps'])\n",
    "\n",
    "# 3. concatenate dataset and sort by index\n",
    "result = pd.concat([test_eng_pred, test_ne_pred]).sort_values('index')"
   ]
  },
  {
   "cell_type": "code",
   "execution_count": 151,
   "metadata": {},
   "outputs": [],
   "source": [
    "result.to_csv('Sample_sumission.csv')"
   ]
  }
 ],
 "metadata": {
  "kernelspec": {
   "display_name": "Python 3",
   "language": "python",
   "name": "python3"
  },
  "language_info": {
   "codemirror_mode": {
    "name": "ipython",
    "version": 3
   },
   "file_extension": ".py",
   "mimetype": "text/x-python",
   "name": "python",
   "nbconvert_exporter": "python",
   "pygments_lexer": "ipython3",
   "version": "3.8.3"
  }
 },
 "nbformat": 4,
 "nbformat_minor": 4
}
